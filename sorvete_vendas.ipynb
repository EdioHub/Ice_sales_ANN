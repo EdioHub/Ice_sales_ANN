{
  "nbformat": 4,
  "nbformat_minor": 0,
  "metadata": {
    "colab": {
      "provenance": [],
      "authorship_tag": "ABX9TyOo6B3biuqO5VaeInqjDSXj",
      "include_colab_link": true
    },
    "kernelspec": {
      "name": "python3",
      "display_name": "Python 3"
    },
    "language_info": {
      "name": "python"
    }
  },
  "cells": [
    {
      "cell_type": "markdown",
      "metadata": {
        "id": "view-in-github",
        "colab_type": "text"
      },
      "source": [
        "<a href=\"https://colab.research.google.com/github/EdioHub/Ice_sales_ANN/blob/main/sorvete_vendas.ipynb\" target=\"_parent\"><img src=\"https://colab.research.google.com/assets/colab-badge.svg\" alt=\"Open In Colab\"/></a>"
      ]
    },
    {
      "cell_type": "markdown",
      "source": [
        "# Etapa 1- Importação da biblioteca"
      ],
      "metadata": {
        "id": "r8YtBXblNHbX"
      }
    },
    {
      "cell_type": "code",
      "execution_count": 1,
      "metadata": {
        "colab": {
          "base_uri": "https://localhost:8080/",
          "height": 36
        },
        "id": "HhoMO1UoxJjE",
        "outputId": "ced80bcf-5bc4-4dbd-d4c0-058bff5917a1"
      },
      "outputs": [
        {
          "output_type": "execute_result",
          "data": {
            "text/plain": [
              "'2.14.0'"
            ],
            "application/vnd.google.colaboratory.intrinsic+json": {
              "type": "string"
            }
          },
          "metadata": {},
          "execution_count": 1
        }
      ],
      "source": [
        "import tensorflow as tf\n",
        "import pandas as pd\n",
        "import seaborn as sns\n",
        "import matplotlib.pyplot as plt\n",
        "import numpy as np\n",
        "tf.__version__"
      ]
    },
    {
      "cell_type": "markdown",
      "source": [
        "# Etapa 2- Importação da base de dados"
      ],
      "metadata": {
        "id": "gWwj63xRNV7G"
      }
    },
    {
      "cell_type": "code",
      "source": [
        "ice_df = pd.read_csv(\"/content/SalesData.csv\")\n",
        "ice_df.head()"
      ],
      "metadata": {
        "colab": {
          "base_uri": "https://localhost:8080/",
          "height": 206
        },
        "id": "NTmozOwazRvX",
        "outputId": "f8c2d6cf-69a4-4381-810b-58b559543e63"
      },
      "execution_count": 67,
      "outputs": [
        {
          "output_type": "execute_result",
          "data": {
            "text/plain": [
              "   Temperature     Revenue\n",
              "0    24.566884  534.799028\n",
              "1    26.005191  625.190122\n",
              "2    27.790554  660.632289\n",
              "3    20.595335  487.706960\n",
              "4    11.503498  316.240194"
            ],
            "text/html": [
              "\n",
              "  <div id=\"df-2054d014-bf53-4864-9531-bcfb16355e1d\" class=\"colab-df-container\">\n",
              "    <div>\n",
              "<style scoped>\n",
              "    .dataframe tbody tr th:only-of-type {\n",
              "        vertical-align: middle;\n",
              "    }\n",
              "\n",
              "    .dataframe tbody tr th {\n",
              "        vertical-align: top;\n",
              "    }\n",
              "\n",
              "    .dataframe thead th {\n",
              "        text-align: right;\n",
              "    }\n",
              "</style>\n",
              "<table border=\"1\" class=\"dataframe\">\n",
              "  <thead>\n",
              "    <tr style=\"text-align: right;\">\n",
              "      <th></th>\n",
              "      <th>Temperature</th>\n",
              "      <th>Revenue</th>\n",
              "    </tr>\n",
              "  </thead>\n",
              "  <tbody>\n",
              "    <tr>\n",
              "      <th>0</th>\n",
              "      <td>24.566884</td>\n",
              "      <td>534.799028</td>\n",
              "    </tr>\n",
              "    <tr>\n",
              "      <th>1</th>\n",
              "      <td>26.005191</td>\n",
              "      <td>625.190122</td>\n",
              "    </tr>\n",
              "    <tr>\n",
              "      <th>2</th>\n",
              "      <td>27.790554</td>\n",
              "      <td>660.632289</td>\n",
              "    </tr>\n",
              "    <tr>\n",
              "      <th>3</th>\n",
              "      <td>20.595335</td>\n",
              "      <td>487.706960</td>\n",
              "    </tr>\n",
              "    <tr>\n",
              "      <th>4</th>\n",
              "      <td>11.503498</td>\n",
              "      <td>316.240194</td>\n",
              "    </tr>\n",
              "  </tbody>\n",
              "</table>\n",
              "</div>\n",
              "    <div class=\"colab-df-buttons\">\n",
              "\n",
              "  <div class=\"colab-df-container\">\n",
              "    <button class=\"colab-df-convert\" onclick=\"convertToInteractive('df-2054d014-bf53-4864-9531-bcfb16355e1d')\"\n",
              "            title=\"Convert this dataframe to an interactive table.\"\n",
              "            style=\"display:none;\">\n",
              "\n",
              "  <svg xmlns=\"http://www.w3.org/2000/svg\" height=\"24px\" viewBox=\"0 -960 960 960\">\n",
              "    <path d=\"M120-120v-720h720v720H120Zm60-500h600v-160H180v160Zm220 220h160v-160H400v160Zm0 220h160v-160H400v160ZM180-400h160v-160H180v160Zm440 0h160v-160H620v160ZM180-180h160v-160H180v160Zm440 0h160v-160H620v160Z\"/>\n",
              "  </svg>\n",
              "    </button>\n",
              "\n",
              "  <style>\n",
              "    .colab-df-container {\n",
              "      display:flex;\n",
              "      gap: 12px;\n",
              "    }\n",
              "\n",
              "    .colab-df-convert {\n",
              "      background-color: #E8F0FE;\n",
              "      border: none;\n",
              "      border-radius: 50%;\n",
              "      cursor: pointer;\n",
              "      display: none;\n",
              "      fill: #1967D2;\n",
              "      height: 32px;\n",
              "      padding: 0 0 0 0;\n",
              "      width: 32px;\n",
              "    }\n",
              "\n",
              "    .colab-df-convert:hover {\n",
              "      background-color: #E2EBFA;\n",
              "      box-shadow: 0px 1px 2px rgba(60, 64, 67, 0.3), 0px 1px 3px 1px rgba(60, 64, 67, 0.15);\n",
              "      fill: #174EA6;\n",
              "    }\n",
              "\n",
              "    .colab-df-buttons div {\n",
              "      margin-bottom: 4px;\n",
              "    }\n",
              "\n",
              "    [theme=dark] .colab-df-convert {\n",
              "      background-color: #3B4455;\n",
              "      fill: #D2E3FC;\n",
              "    }\n",
              "\n",
              "    [theme=dark] .colab-df-convert:hover {\n",
              "      background-color: #434B5C;\n",
              "      box-shadow: 0px 1px 3px 1px rgba(0, 0, 0, 0.15);\n",
              "      filter: drop-shadow(0px 1px 2px rgba(0, 0, 0, 0.3));\n",
              "      fill: #FFFFFF;\n",
              "    }\n",
              "  </style>\n",
              "\n",
              "    <script>\n",
              "      const buttonEl =\n",
              "        document.querySelector('#df-2054d014-bf53-4864-9531-bcfb16355e1d button.colab-df-convert');\n",
              "      buttonEl.style.display =\n",
              "        google.colab.kernel.accessAllowed ? 'block' : 'none';\n",
              "\n",
              "      async function convertToInteractive(key) {\n",
              "        const element = document.querySelector('#df-2054d014-bf53-4864-9531-bcfb16355e1d');\n",
              "        const dataTable =\n",
              "          await google.colab.kernel.invokeFunction('convertToInteractive',\n",
              "                                                    [key], {});\n",
              "        if (!dataTable) return;\n",
              "\n",
              "        const docLinkHtml = 'Like what you see? Visit the ' +\n",
              "          '<a target=\"_blank\" href=https://colab.research.google.com/notebooks/data_table.ipynb>data table notebook</a>'\n",
              "          + ' to learn more about interactive tables.';\n",
              "        element.innerHTML = '';\n",
              "        dataTable['output_type'] = 'display_data';\n",
              "        await google.colab.output.renderOutput(dataTable, element);\n",
              "        const docLink = document.createElement('div');\n",
              "        docLink.innerHTML = docLinkHtml;\n",
              "        element.appendChild(docLink);\n",
              "      }\n",
              "    </script>\n",
              "  </div>\n",
              "\n",
              "\n",
              "<div id=\"df-fa2d6d8a-b79b-47bc-a6f8-150333ad380b\">\n",
              "  <button class=\"colab-df-quickchart\" onclick=\"quickchart('df-fa2d6d8a-b79b-47bc-a6f8-150333ad380b')\"\n",
              "            title=\"Suggest charts.\"\n",
              "            style=\"display:none;\">\n",
              "\n",
              "<svg xmlns=\"http://www.w3.org/2000/svg\" height=\"24px\"viewBox=\"0 0 24 24\"\n",
              "     width=\"24px\">\n",
              "    <g>\n",
              "        <path d=\"M19 3H5c-1.1 0-2 .9-2 2v14c0 1.1.9 2 2 2h14c1.1 0 2-.9 2-2V5c0-1.1-.9-2-2-2zM9 17H7v-7h2v7zm4 0h-2V7h2v10zm4 0h-2v-4h2v4z\"/>\n",
              "    </g>\n",
              "</svg>\n",
              "  </button>\n",
              "\n",
              "<style>\n",
              "  .colab-df-quickchart {\n",
              "      --bg-color: #E8F0FE;\n",
              "      --fill-color: #1967D2;\n",
              "      --hover-bg-color: #E2EBFA;\n",
              "      --hover-fill-color: #174EA6;\n",
              "      --disabled-fill-color: #AAA;\n",
              "      --disabled-bg-color: #DDD;\n",
              "  }\n",
              "\n",
              "  [theme=dark] .colab-df-quickchart {\n",
              "      --bg-color: #3B4455;\n",
              "      --fill-color: #D2E3FC;\n",
              "      --hover-bg-color: #434B5C;\n",
              "      --hover-fill-color: #FFFFFF;\n",
              "      --disabled-bg-color: #3B4455;\n",
              "      --disabled-fill-color: #666;\n",
              "  }\n",
              "\n",
              "  .colab-df-quickchart {\n",
              "    background-color: var(--bg-color);\n",
              "    border: none;\n",
              "    border-radius: 50%;\n",
              "    cursor: pointer;\n",
              "    display: none;\n",
              "    fill: var(--fill-color);\n",
              "    height: 32px;\n",
              "    padding: 0;\n",
              "    width: 32px;\n",
              "  }\n",
              "\n",
              "  .colab-df-quickchart:hover {\n",
              "    background-color: var(--hover-bg-color);\n",
              "    box-shadow: 0 1px 2px rgba(60, 64, 67, 0.3), 0 1px 3px 1px rgba(60, 64, 67, 0.15);\n",
              "    fill: var(--button-hover-fill-color);\n",
              "  }\n",
              "\n",
              "  .colab-df-quickchart-complete:disabled,\n",
              "  .colab-df-quickchart-complete:disabled:hover {\n",
              "    background-color: var(--disabled-bg-color);\n",
              "    fill: var(--disabled-fill-color);\n",
              "    box-shadow: none;\n",
              "  }\n",
              "\n",
              "  .colab-df-spinner {\n",
              "    border: 2px solid var(--fill-color);\n",
              "    border-color: transparent;\n",
              "    border-bottom-color: var(--fill-color);\n",
              "    animation:\n",
              "      spin 1s steps(1) infinite;\n",
              "  }\n",
              "\n",
              "  @keyframes spin {\n",
              "    0% {\n",
              "      border-color: transparent;\n",
              "      border-bottom-color: var(--fill-color);\n",
              "      border-left-color: var(--fill-color);\n",
              "    }\n",
              "    20% {\n",
              "      border-color: transparent;\n",
              "      border-left-color: var(--fill-color);\n",
              "      border-top-color: var(--fill-color);\n",
              "    }\n",
              "    30% {\n",
              "      border-color: transparent;\n",
              "      border-left-color: var(--fill-color);\n",
              "      border-top-color: var(--fill-color);\n",
              "      border-right-color: var(--fill-color);\n",
              "    }\n",
              "    40% {\n",
              "      border-color: transparent;\n",
              "      border-right-color: var(--fill-color);\n",
              "      border-top-color: var(--fill-color);\n",
              "    }\n",
              "    60% {\n",
              "      border-color: transparent;\n",
              "      border-right-color: var(--fill-color);\n",
              "    }\n",
              "    80% {\n",
              "      border-color: transparent;\n",
              "      border-right-color: var(--fill-color);\n",
              "      border-bottom-color: var(--fill-color);\n",
              "    }\n",
              "    90% {\n",
              "      border-color: transparent;\n",
              "      border-bottom-color: var(--fill-color);\n",
              "    }\n",
              "  }\n",
              "</style>\n",
              "\n",
              "  <script>\n",
              "    async function quickchart(key) {\n",
              "      const quickchartButtonEl =\n",
              "        document.querySelector('#' + key + ' button');\n",
              "      quickchartButtonEl.disabled = true;  // To prevent multiple clicks.\n",
              "      quickchartButtonEl.classList.add('colab-df-spinner');\n",
              "      try {\n",
              "        const charts = await google.colab.kernel.invokeFunction(\n",
              "            'suggestCharts', [key], {});\n",
              "      } catch (error) {\n",
              "        console.error('Error during call to suggestCharts:', error);\n",
              "      }\n",
              "      quickchartButtonEl.classList.remove('colab-df-spinner');\n",
              "      quickchartButtonEl.classList.add('colab-df-quickchart-complete');\n",
              "    }\n",
              "    (() => {\n",
              "      let quickchartButtonEl =\n",
              "        document.querySelector('#df-fa2d6d8a-b79b-47bc-a6f8-150333ad380b button');\n",
              "      quickchartButtonEl.style.display =\n",
              "        google.colab.kernel.accessAllowed ? 'block' : 'none';\n",
              "    })();\n",
              "  </script>\n",
              "</div>\n",
              "    </div>\n",
              "  </div>\n"
            ]
          },
          "metadata": {},
          "execution_count": 67
        }
      ]
    },
    {
      "cell_type": "code",
      "source": [
        "ice_df.shape\n"
      ],
      "metadata": {
        "colab": {
          "base_uri": "https://localhost:8080/"
        },
        "id": "xOYafKv90CZu",
        "outputId": "9623989e-f785-4d03-ed71-a4f937218ae6"
      },
      "execution_count": 6,
      "outputs": [
        {
          "output_type": "execute_result",
          "data": {
            "text/plain": [
              "(500, 2)"
            ]
          },
          "metadata": {},
          "execution_count": 6
        }
      ]
    },
    {
      "cell_type": "code",
      "source": [
        "ice_df.info()"
      ],
      "metadata": {
        "colab": {
          "base_uri": "https://localhost:8080/"
        },
        "id": "M8lht0AJ0Cdw",
        "outputId": "5ae8100e-0388-4fd8-c398-f4dc0341d07a"
      },
      "execution_count": 7,
      "outputs": [
        {
          "output_type": "stream",
          "name": "stdout",
          "text": [
            "<class 'pandas.core.frame.DataFrame'>\n",
            "RangeIndex: 500 entries, 0 to 499\n",
            "Data columns (total 2 columns):\n",
            " #   Column       Non-Null Count  Dtype  \n",
            "---  ------       --------------  -----  \n",
            " 0   Temperature  500 non-null    float64\n",
            " 1   Revenue      500 non-null    float64\n",
            "dtypes: float64(2)\n",
            "memory usage: 7.9 KB\n"
          ]
        }
      ]
    },
    {
      "cell_type": "code",
      "source": [
        "ice_df.describe()"
      ],
      "metadata": {
        "colab": {
          "base_uri": "https://localhost:8080/",
          "height": 300
        },
        "id": "G02swGHi0Chw",
        "outputId": "d8d1d4d9-1cce-4154-b55a-10eb8f9ba16e"
      },
      "execution_count": 8,
      "outputs": [
        {
          "output_type": "execute_result",
          "data": {
            "text/plain": [
              "       Temperature      Revenue\n",
              "count   500.000000   500.000000\n",
              "mean     22.232225   521.570777\n",
              "std       8.096388   175.404751\n",
              "min       0.000000    10.000000\n",
              "25%      17.122258   405.558681\n",
              "50%      22.392791   529.368565\n",
              "75%      27.740674   642.257922\n",
              "max      45.000000  1000.000000"
            ],
            "text/html": [
              "\n",
              "  <div id=\"df-f0fe457c-b7d5-4f42-99cf-411a313fd1c4\" class=\"colab-df-container\">\n",
              "    <div>\n",
              "<style scoped>\n",
              "    .dataframe tbody tr th:only-of-type {\n",
              "        vertical-align: middle;\n",
              "    }\n",
              "\n",
              "    .dataframe tbody tr th {\n",
              "        vertical-align: top;\n",
              "    }\n",
              "\n",
              "    .dataframe thead th {\n",
              "        text-align: right;\n",
              "    }\n",
              "</style>\n",
              "<table border=\"1\" class=\"dataframe\">\n",
              "  <thead>\n",
              "    <tr style=\"text-align: right;\">\n",
              "      <th></th>\n",
              "      <th>Temperature</th>\n",
              "      <th>Revenue</th>\n",
              "    </tr>\n",
              "  </thead>\n",
              "  <tbody>\n",
              "    <tr>\n",
              "      <th>count</th>\n",
              "      <td>500.000000</td>\n",
              "      <td>500.000000</td>\n",
              "    </tr>\n",
              "    <tr>\n",
              "      <th>mean</th>\n",
              "      <td>22.232225</td>\n",
              "      <td>521.570777</td>\n",
              "    </tr>\n",
              "    <tr>\n",
              "      <th>std</th>\n",
              "      <td>8.096388</td>\n",
              "      <td>175.404751</td>\n",
              "    </tr>\n",
              "    <tr>\n",
              "      <th>min</th>\n",
              "      <td>0.000000</td>\n",
              "      <td>10.000000</td>\n",
              "    </tr>\n",
              "    <tr>\n",
              "      <th>25%</th>\n",
              "      <td>17.122258</td>\n",
              "      <td>405.558681</td>\n",
              "    </tr>\n",
              "    <tr>\n",
              "      <th>50%</th>\n",
              "      <td>22.392791</td>\n",
              "      <td>529.368565</td>\n",
              "    </tr>\n",
              "    <tr>\n",
              "      <th>75%</th>\n",
              "      <td>27.740674</td>\n",
              "      <td>642.257922</td>\n",
              "    </tr>\n",
              "    <tr>\n",
              "      <th>max</th>\n",
              "      <td>45.000000</td>\n",
              "      <td>1000.000000</td>\n",
              "    </tr>\n",
              "  </tbody>\n",
              "</table>\n",
              "</div>\n",
              "    <div class=\"colab-df-buttons\">\n",
              "\n",
              "  <div class=\"colab-df-container\">\n",
              "    <button class=\"colab-df-convert\" onclick=\"convertToInteractive('df-f0fe457c-b7d5-4f42-99cf-411a313fd1c4')\"\n",
              "            title=\"Convert this dataframe to an interactive table.\"\n",
              "            style=\"display:none;\">\n",
              "\n",
              "  <svg xmlns=\"http://www.w3.org/2000/svg\" height=\"24px\" viewBox=\"0 -960 960 960\">\n",
              "    <path d=\"M120-120v-720h720v720H120Zm60-500h600v-160H180v160Zm220 220h160v-160H400v160Zm0 220h160v-160H400v160ZM180-400h160v-160H180v160Zm440 0h160v-160H620v160ZM180-180h160v-160H180v160Zm440 0h160v-160H620v160Z\"/>\n",
              "  </svg>\n",
              "    </button>\n",
              "\n",
              "  <style>\n",
              "    .colab-df-container {\n",
              "      display:flex;\n",
              "      gap: 12px;\n",
              "    }\n",
              "\n",
              "    .colab-df-convert {\n",
              "      background-color: #E8F0FE;\n",
              "      border: none;\n",
              "      border-radius: 50%;\n",
              "      cursor: pointer;\n",
              "      display: none;\n",
              "      fill: #1967D2;\n",
              "      height: 32px;\n",
              "      padding: 0 0 0 0;\n",
              "      width: 32px;\n",
              "    }\n",
              "\n",
              "    .colab-df-convert:hover {\n",
              "      background-color: #E2EBFA;\n",
              "      box-shadow: 0px 1px 2px rgba(60, 64, 67, 0.3), 0px 1px 3px 1px rgba(60, 64, 67, 0.15);\n",
              "      fill: #174EA6;\n",
              "    }\n",
              "\n",
              "    .colab-df-buttons div {\n",
              "      margin-bottom: 4px;\n",
              "    }\n",
              "\n",
              "    [theme=dark] .colab-df-convert {\n",
              "      background-color: #3B4455;\n",
              "      fill: #D2E3FC;\n",
              "    }\n",
              "\n",
              "    [theme=dark] .colab-df-convert:hover {\n",
              "      background-color: #434B5C;\n",
              "      box-shadow: 0px 1px 3px 1px rgba(0, 0, 0, 0.15);\n",
              "      filter: drop-shadow(0px 1px 2px rgba(0, 0, 0, 0.3));\n",
              "      fill: #FFFFFF;\n",
              "    }\n",
              "  </style>\n",
              "\n",
              "    <script>\n",
              "      const buttonEl =\n",
              "        document.querySelector('#df-f0fe457c-b7d5-4f42-99cf-411a313fd1c4 button.colab-df-convert');\n",
              "      buttonEl.style.display =\n",
              "        google.colab.kernel.accessAllowed ? 'block' : 'none';\n",
              "\n",
              "      async function convertToInteractive(key) {\n",
              "        const element = document.querySelector('#df-f0fe457c-b7d5-4f42-99cf-411a313fd1c4');\n",
              "        const dataTable =\n",
              "          await google.colab.kernel.invokeFunction('convertToInteractive',\n",
              "                                                    [key], {});\n",
              "        if (!dataTable) return;\n",
              "\n",
              "        const docLinkHtml = 'Like what you see? Visit the ' +\n",
              "          '<a target=\"_blank\" href=https://colab.research.google.com/notebooks/data_table.ipynb>data table notebook</a>'\n",
              "          + ' to learn more about interactive tables.';\n",
              "        element.innerHTML = '';\n",
              "        dataTable['output_type'] = 'display_data';\n",
              "        await google.colab.output.renderOutput(dataTable, element);\n",
              "        const docLink = document.createElement('div');\n",
              "        docLink.innerHTML = docLinkHtml;\n",
              "        element.appendChild(docLink);\n",
              "      }\n",
              "    </script>\n",
              "  </div>\n",
              "\n",
              "\n",
              "<div id=\"df-ef9cc6bd-6f61-435e-ad64-13d9dd009e20\">\n",
              "  <button class=\"colab-df-quickchart\" onclick=\"quickchart('df-ef9cc6bd-6f61-435e-ad64-13d9dd009e20')\"\n",
              "            title=\"Suggest charts.\"\n",
              "            style=\"display:none;\">\n",
              "\n",
              "<svg xmlns=\"http://www.w3.org/2000/svg\" height=\"24px\"viewBox=\"0 0 24 24\"\n",
              "     width=\"24px\">\n",
              "    <g>\n",
              "        <path d=\"M19 3H5c-1.1 0-2 .9-2 2v14c0 1.1.9 2 2 2h14c1.1 0 2-.9 2-2V5c0-1.1-.9-2-2-2zM9 17H7v-7h2v7zm4 0h-2V7h2v10zm4 0h-2v-4h2v4z\"/>\n",
              "    </g>\n",
              "</svg>\n",
              "  </button>\n",
              "\n",
              "<style>\n",
              "  .colab-df-quickchart {\n",
              "      --bg-color: #E8F0FE;\n",
              "      --fill-color: #1967D2;\n",
              "      --hover-bg-color: #E2EBFA;\n",
              "      --hover-fill-color: #174EA6;\n",
              "      --disabled-fill-color: #AAA;\n",
              "      --disabled-bg-color: #DDD;\n",
              "  }\n",
              "\n",
              "  [theme=dark] .colab-df-quickchart {\n",
              "      --bg-color: #3B4455;\n",
              "      --fill-color: #D2E3FC;\n",
              "      --hover-bg-color: #434B5C;\n",
              "      --hover-fill-color: #FFFFFF;\n",
              "      --disabled-bg-color: #3B4455;\n",
              "      --disabled-fill-color: #666;\n",
              "  }\n",
              "\n",
              "  .colab-df-quickchart {\n",
              "    background-color: var(--bg-color);\n",
              "    border: none;\n",
              "    border-radius: 50%;\n",
              "    cursor: pointer;\n",
              "    display: none;\n",
              "    fill: var(--fill-color);\n",
              "    height: 32px;\n",
              "    padding: 0;\n",
              "    width: 32px;\n",
              "  }\n",
              "\n",
              "  .colab-df-quickchart:hover {\n",
              "    background-color: var(--hover-bg-color);\n",
              "    box-shadow: 0 1px 2px rgba(60, 64, 67, 0.3), 0 1px 3px 1px rgba(60, 64, 67, 0.15);\n",
              "    fill: var(--button-hover-fill-color);\n",
              "  }\n",
              "\n",
              "  .colab-df-quickchart-complete:disabled,\n",
              "  .colab-df-quickchart-complete:disabled:hover {\n",
              "    background-color: var(--disabled-bg-color);\n",
              "    fill: var(--disabled-fill-color);\n",
              "    box-shadow: none;\n",
              "  }\n",
              "\n",
              "  .colab-df-spinner {\n",
              "    border: 2px solid var(--fill-color);\n",
              "    border-color: transparent;\n",
              "    border-bottom-color: var(--fill-color);\n",
              "    animation:\n",
              "      spin 1s steps(1) infinite;\n",
              "  }\n",
              "\n",
              "  @keyframes spin {\n",
              "    0% {\n",
              "      border-color: transparent;\n",
              "      border-bottom-color: var(--fill-color);\n",
              "      border-left-color: var(--fill-color);\n",
              "    }\n",
              "    20% {\n",
              "      border-color: transparent;\n",
              "      border-left-color: var(--fill-color);\n",
              "      border-top-color: var(--fill-color);\n",
              "    }\n",
              "    30% {\n",
              "      border-color: transparent;\n",
              "      border-left-color: var(--fill-color);\n",
              "      border-top-color: var(--fill-color);\n",
              "      border-right-color: var(--fill-color);\n",
              "    }\n",
              "    40% {\n",
              "      border-color: transparent;\n",
              "      border-right-color: var(--fill-color);\n",
              "      border-top-color: var(--fill-color);\n",
              "    }\n",
              "    60% {\n",
              "      border-color: transparent;\n",
              "      border-right-color: var(--fill-color);\n",
              "    }\n",
              "    80% {\n",
              "      border-color: transparent;\n",
              "      border-right-color: var(--fill-color);\n",
              "      border-bottom-color: var(--fill-color);\n",
              "    }\n",
              "    90% {\n",
              "      border-color: transparent;\n",
              "      border-bottom-color: var(--fill-color);\n",
              "    }\n",
              "  }\n",
              "</style>\n",
              "\n",
              "  <script>\n",
              "    async function quickchart(key) {\n",
              "      const quickchartButtonEl =\n",
              "        document.querySelector('#' + key + ' button');\n",
              "      quickchartButtonEl.disabled = true;  // To prevent multiple clicks.\n",
              "      quickchartButtonEl.classList.add('colab-df-spinner');\n",
              "      try {\n",
              "        const charts = await google.colab.kernel.invokeFunction(\n",
              "            'suggestCharts', [key], {});\n",
              "      } catch (error) {\n",
              "        console.error('Error during call to suggestCharts:', error);\n",
              "      }\n",
              "      quickchartButtonEl.classList.remove('colab-df-spinner');\n",
              "      quickchartButtonEl.classList.add('colab-df-quickchart-complete');\n",
              "    }\n",
              "    (() => {\n",
              "      let quickchartButtonEl =\n",
              "        document.querySelector('#df-ef9cc6bd-6f61-435e-ad64-13d9dd009e20 button');\n",
              "      quickchartButtonEl.style.display =\n",
              "        google.colab.kernel.accessAllowed ? 'block' : 'none';\n",
              "    })();\n",
              "  </script>\n",
              "</div>\n",
              "    </div>\n",
              "  </div>\n"
            ]
          },
          "metadata": {},
          "execution_count": 8
        }
      ]
    },
    {
      "cell_type": "markdown",
      "source": [
        "# Etapa 3- Visualização dos dados"
      ],
      "metadata": {
        "id": "lRukVWSnNbZ_"
      }
    },
    {
      "cell_type": "code",
      "source": [
        "sns.scatterplot( x=ice_df['Temperature'], y = ice_df[\"Revenue\"])"
      ],
      "metadata": {
        "colab": {
          "base_uri": "https://localhost:8080/",
          "height": 466
        },
        "id": "hf0smZU30CkU",
        "outputId": "cefde981-0f9a-4d31-de53-59d2dc1c8458"
      },
      "execution_count": 9,
      "outputs": [
        {
          "output_type": "execute_result",
          "data": {
            "text/plain": [
              "<Axes: xlabel='Temperature', ylabel='Revenue'>"
            ]
          },
          "metadata": {},
          "execution_count": 9
        },
        {
          "output_type": "display_data",
          "data": {
            "text/plain": [
              "<Figure size 640x480 with 1 Axes>"
            ],
            "image/png": "[encoded data removed]"
          },
          "metadata": {}
        }
      ]
    },
    {
      "cell_type": "markdown",
      "source": [
        "# Etapa 4- Criação das variáveis da base de dados"
      ],
      "metadata": {
        "id": "OgoIuScRNkUu"
      }
    },
    {
      "cell_type": "code",
      "source": [
        "X_train = ice_df['Temperature']\n",
        "y_train = ice_df['Revenue']"
      ],
      "metadata": {
        "id": "OQsnHJZO0Cn4"
      },
      "execution_count": 49,
      "outputs": []
    },
    {
      "cell_type": "code",
      "source": [
        "X_train.shape"
      ],
      "metadata": {
        "colab": {
          "base_uri": "https://localhost:8080/"
        },
        "id": "5l1Z7hPjhKKT",
        "outputId": "b41b81b0-c6f0-4ac2-8ebb-9f7c1b3691e5"
      },
      "execution_count": 22,
      "outputs": [
        {
          "output_type": "execute_result",
          "data": {
            "text/plain": [
              "(500,)"
            ]
          },
          "metadata": {},
          "execution_count": 22
        }
      ]
    },
    {
      "cell_type": "code",
      "source": [
        "y_train.shape"
      ],
      "metadata": {
        "colab": {
          "base_uri": "https://localhost:8080/"
        },
        "id": "gECIScvIhJ9X",
        "outputId": "b07f1eda-8c3b-4395-e5fc-13209188a372"
      },
      "execution_count": 23,
      "outputs": [
        {
          "output_type": "execute_result",
          "data": {
            "text/plain": [
              "(500,)"
            ]
          },
          "metadata": {},
          "execution_count": 23
        }
      ]
    },
    {
      "cell_type": "markdown",
      "source": [
        "# Etapa 5- Criação e construção do modelo"
      ],
      "metadata": {
        "id": "RPP01simNyRJ"
      }
    },
    {
      "cell_type": "markdown",
      "source": [
        "abaixo temos 10 neuronios de saida ligados a  segunda camada que vai ter apenas uma saída"
      ],
      "metadata": {
        "id": "yMPQ_ctQJUGw"
      }
    },
    {
      "cell_type": "code",
      "source": [
        "model = tf.keras.Sequential()\n",
        "model.add(tf.keras.layers.Dense(units=10, input_shape=[1]))\n",
        "model.add(tf.keras.layers.Dense(units = 1))\n",
        "model.summary()"
      ],
      "metadata": {
        "colab": {
          "base_uri": "https://localhost:8080/"
        },
        "id": "QOWhXK4i0CrM",
        "outputId": "d0ef95bb-f897-43a0-b08b-7c5b4b710254"
      },
      "execution_count": 11,
      "outputs": [
        {
          "output_type": "stream",
          "name": "stdout",
          "text": [
            "Model: \"sequential\"\n",
            "_________________________________________________________________\n",
            " Layer (type)                Output Shape              Param #   \n",
            "=================================================================\n",
            " dense (Dense)               (None, 10)                20        \n",
            "                                                                 \n",
            " dense_1 (Dense)             (None, 1)                 11        \n",
            "                                                                 \n",
            "=================================================================\n",
            "Total params: 31 (124.00 Byte)\n",
            "Trainable params: 31 (124.00 Byte)\n",
            "Non-trainable params: 0 (0.00 Byte)\n",
            "_________________________________________________________________\n"
          ]
        }
      ]
    },
    {
      "cell_type": "code",
      "source": [
        "model.compile(optimizer=tf.keras.optimizers.Adam(0.1),loss = 'mean_squared_error')"
      ],
      "metadata": {
        "id": "OxY840M93KbX"
      },
      "execution_count": 38,
      "outputs": []
    },
    {
      "cell_type": "code",
      "source": [
        "epochs_hist = model.fit(x_train, y_train, epochs = 500)"
      ],
      "metadata": {
        "colab": {
          "base_uri": "https://localhost:8080/"
        },
        "id": "ZQRaH_0h4LGc",
        "outputId": "4a697521-13a0-4e38-a462-281b6e82cc30"
      },
      "execution_count": 39,
      "outputs": [
        {
          "output_type": "stream",
          "name": "stdout",
          "text": [
            "Epoch 1/500\n",
            "16/16 [==============================] - 1s 2ms/step - loss: 903.7911\n",
            "Epoch 2/500\n",
            "16/16 [==============================] - 0s 2ms/step - loss: 722.8770\n",
            "Epoch 3/500\n",
            "16/16 [==============================] - 0s 2ms/step - loss: 655.7267\n",
            "Epoch 4/500\n",
            "16/16 [==============================] - 0s 3ms/step - loss: 646.1375\n",
            "Epoch 5/500\n",
            "16/16 [==============================] - 0s 3ms/step - loss: 661.0986\n",
            "Epoch 6/500\n",
            "16/16 [==============================] - 0s 3ms/step - loss: 686.0833\n",
            "Epoch 7/500\n",
            "16/16 [==============================] - 0s 2ms/step - loss: 676.3397\n",
            "Epoch 8/500\n",
            "16/16 [==============================] - 0s 3ms/step - loss: 645.7095\n",
            "Epoch 9/500\n",
            "16/16 [==============================] - 0s 3ms/step - loss: 679.9515\n",
            "Epoch 10/500\n",
            "16/16 [==============================] - 0s 3ms/step - loss: 642.9819\n",
            "Epoch 11/500\n",
            "16/16 [==============================] - 0s 2ms/step - loss: 653.1763\n",
            "Epoch 12/500\n",
            "16/16 [==============================] - 0s 2ms/step - loss: 656.6365\n",
            "Epoch 13/500\n",
            "16/16 [==============================] - 0s 2ms/step - loss: 652.6994\n",
            "Epoch 14/500\n",
            "16/16 [==============================] - 0s 2ms/step - loss: 667.3358\n",
            "Epoch 15/500\n",
            "16/16 [==============================] - 0s 2ms/step - loss: 710.2673\n",
            "Epoch 16/500\n",
            "16/16 [==============================] - 0s 3ms/step - loss: 632.8510\n",
            "Epoch 17/500\n",
            "16/16 [==============================] - 0s 2ms/step - loss: 645.9167\n",
            "Epoch 18/500\n",
            "16/16 [==============================] - 0s 2ms/step - loss: 649.9577\n",
            "Epoch 19/500\n",
            "16/16 [==============================] - 0s 2ms/step - loss: 688.2408\n",
            "Epoch 20/500\n",
            "16/16 [==============================] - 0s 3ms/step - loss: 674.6296\n",
            "Epoch 21/500\n",
            "16/16 [==============================] - 0s 2ms/step - loss: 644.8183\n",
            "Epoch 22/500\n",
            "16/16 [==============================] - 0s 2ms/step - loss: 642.6747\n",
            "Epoch 23/500\n",
            "16/16 [==============================] - 0s 2ms/step - loss: 640.8909\n",
            "Epoch 24/500\n",
            "16/16 [==============================] - 0s 2ms/step - loss: 643.3125\n",
            "Epoch 25/500\n",
            "16/16 [==============================] - 0s 2ms/step - loss: 671.9573\n",
            "Epoch 26/500\n",
            "16/16 [==============================] - 0s 3ms/step - loss: 683.2120\n",
            "Epoch 27/500\n",
            "16/16 [==============================] - 0s 4ms/step - loss: 813.6710\n",
            "Epoch 28/500\n",
            "16/16 [==============================] - 0s 3ms/step - loss: 783.8570\n",
            "Epoch 29/500\n",
            "16/16 [==============================] - 0s 2ms/step - loss: 638.1766\n",
            "Epoch 30/500\n",
            "16/16 [==============================] - 0s 3ms/step - loss: 674.6141\n",
            "Epoch 31/500\n",
            "16/16 [==============================] - 0s 3ms/step - loss: 674.7506\n",
            "Epoch 32/500\n",
            "16/16 [==============================] - 0s 3ms/step - loss: 720.2374\n",
            "Epoch 33/500\n",
            "16/16 [==============================] - 0s 2ms/step - loss: 765.9445\n",
            "Epoch 34/500\n",
            "16/16 [==============================] - 0s 2ms/step - loss: 680.7949\n",
            "Epoch 35/500\n",
            "16/16 [==============================] - 0s 3ms/step - loss: 712.9385\n",
            "Epoch 36/500\n",
            "16/16 [==============================] - 0s 3ms/step - loss: 705.4612\n",
            "Epoch 37/500\n",
            "16/16 [==============================] - 0s 2ms/step - loss: 681.3640\n",
            "Epoch 38/500\n",
            "16/16 [==============================] - 0s 2ms/step - loss: 718.7583\n",
            "Epoch 39/500\n",
            "16/16 [==============================] - 0s 3ms/step - loss: 678.7649\n",
            "Epoch 40/500\n",
            "16/16 [==============================] - 0s 3ms/step - loss: 642.4269\n",
            "Epoch 41/500\n",
            "16/16 [==============================] - 0s 3ms/step - loss: 689.0543\n",
            "Epoch 42/500\n",
            "16/16 [==============================] - 0s 2ms/step - loss: 714.1311\n",
            "Epoch 43/500\n",
            "16/16 [==============================] - 0s 2ms/step - loss: 684.7092\n",
            "Epoch 44/500\n",
            "16/16 [==============================] - 0s 2ms/step - loss: 665.9068\n",
            "Epoch 45/500\n",
            "16/16 [==============================] - 0s 2ms/step - loss: 634.7893\n",
            "Epoch 46/500\n",
            "16/16 [==============================] - 0s 2ms/step - loss: 658.9283\n",
            "Epoch 47/500\n",
            "16/16 [==============================] - 0s 2ms/step - loss: 691.5566\n",
            "Epoch 48/500\n",
            "16/16 [==============================] - 0s 2ms/step - loss: 682.0944\n",
            "Epoch 49/500\n",
            "16/16 [==============================] - 0s 2ms/step - loss: 648.4310\n",
            "Epoch 50/500\n",
            "16/16 [==============================] - 0s 2ms/step - loss: 674.1846\n",
            "Epoch 51/500\n",
            "16/16 [==============================] - 0s 2ms/step - loss: 642.1018\n",
            "Epoch 52/500\n",
            "16/16 [==============================] - 0s 2ms/step - loss: 719.9852\n",
            "Epoch 53/500\n",
            "16/16 [==============================] - 0s 2ms/step - loss: 739.3792\n",
            "Epoch 54/500\n",
            "16/16 [==============================] - 0s 2ms/step - loss: 877.4236\n",
            "Epoch 55/500\n",
            "16/16 [==============================] - 0s 2ms/step - loss: 975.8077\n",
            "Epoch 56/500\n",
            "16/16 [==============================] - 0s 2ms/step - loss: 830.0676\n",
            "Epoch 57/500\n",
            "16/16 [==============================] - 0s 2ms/step - loss: 681.9928\n",
            "Epoch 58/500\n",
            "16/16 [==============================] - 0s 2ms/step - loss: 681.2900\n",
            "Epoch 59/500\n",
            "16/16 [==============================] - 0s 2ms/step - loss: 677.3760\n",
            "Epoch 60/500\n",
            "16/16 [==============================] - 0s 2ms/step - loss: 644.7712\n",
            "Epoch 61/500\n",
            "16/16 [==============================] - 0s 2ms/step - loss: 656.1751\n",
            "Epoch 62/500\n",
            "16/16 [==============================] - 0s 2ms/step - loss: 674.0309\n",
            "Epoch 63/500\n",
            "16/16 [==============================] - 0s 2ms/step - loss: 648.6292\n",
            "Epoch 64/500\n",
            "16/16 [==============================] - 0s 2ms/step - loss: 671.8655\n",
            "Epoch 65/500\n",
            "16/16 [==============================] - 0s 2ms/step - loss: 642.5012\n",
            "Epoch 66/500\n",
            "16/16 [==============================] - 0s 2ms/step - loss: 646.6631\n",
            "Epoch 67/500\n",
            "16/16 [==============================] - 0s 2ms/step - loss: 631.2670\n",
            "Epoch 68/500\n",
            "16/16 [==============================] - 0s 2ms/step - loss: 644.7610\n",
            "Epoch 69/500\n",
            "16/16 [==============================] - 0s 2ms/step - loss: 710.5861\n",
            "Epoch 70/500\n",
            "16/16 [==============================] - 0s 2ms/step - loss: 636.0181\n",
            "Epoch 71/500\n",
            "16/16 [==============================] - 0s 2ms/step - loss: 656.3676\n",
            "Epoch 72/500\n",
            "16/16 [==============================] - 0s 3ms/step - loss: 633.7815\n",
            "Epoch 73/500\n",
            "16/16 [==============================] - 0s 2ms/step - loss: 688.9517\n",
            "Epoch 74/500\n",
            "16/16 [==============================] - 0s 2ms/step - loss: 684.9195\n",
            "Epoch 75/500\n",
            "16/16 [==============================] - 0s 2ms/step - loss: 748.8612\n",
            "Epoch 76/500\n",
            "16/16 [==============================] - 0s 2ms/step - loss: 802.9166\n",
            "Epoch 77/500\n",
            "16/16 [==============================] - 0s 2ms/step - loss: 781.0954\n",
            "Epoch 78/500\n",
            "16/16 [==============================] - 0s 2ms/step - loss: 740.0078\n",
            "Epoch 79/500\n",
            "16/16 [==============================] - 0s 2ms/step - loss: 766.0826\n",
            "Epoch 80/500\n",
            "16/16 [==============================] - 0s 2ms/step - loss: 862.7051\n",
            "Epoch 81/500\n",
            "16/16 [==============================] - 0s 2ms/step - loss: 682.2023\n",
            "Epoch 82/500\n",
            "16/16 [==============================] - 0s 2ms/step - loss: 642.1116\n",
            "Epoch 83/500\n",
            "16/16 [==============================] - 0s 2ms/step - loss: 674.0367\n",
            "Epoch 84/500\n",
            "16/16 [==============================] - 0s 2ms/step - loss: 640.5027\n",
            "Epoch 85/500\n",
            "16/16 [==============================] - 0s 2ms/step - loss: 708.0197\n",
            "Epoch 86/500\n",
            "16/16 [==============================] - 0s 2ms/step - loss: 676.6146\n",
            "Epoch 87/500\n",
            "16/16 [==============================] - 0s 2ms/step - loss: 668.8998\n",
            "Epoch 88/500\n",
            "16/16 [==============================] - 0s 2ms/step - loss: 669.1475\n",
            "Epoch 89/500\n",
            "16/16 [==============================] - 0s 2ms/step - loss: 720.0983\n",
            "Epoch 90/500\n",
            "16/16 [==============================] - 0s 2ms/step - loss: 651.2236\n",
            "Epoch 91/500\n",
            "16/16 [==============================] - 0s 2ms/step - loss: 655.8219\n",
            "Epoch 92/500\n",
            "16/16 [==============================] - 0s 2ms/step - loss: 696.8058\n",
            "Epoch 93/500\n",
            "16/16 [==============================] - 0s 2ms/step - loss: 685.5863\n",
            "Epoch 94/500\n",
            "16/16 [==============================] - 0s 2ms/step - loss: 747.1793\n",
            "Epoch 95/500\n",
            "16/16 [==============================] - 0s 2ms/step - loss: 655.1069\n",
            "Epoch 96/500\n",
            "16/16 [==============================] - 0s 3ms/step - loss: 628.9201\n",
            "Epoch 97/500\n",
            "16/16 [==============================] - 0s 2ms/step - loss: 639.0881\n",
            "Epoch 98/500\n",
            "16/16 [==============================] - 0s 4ms/step - loss: 704.6652\n",
            "Epoch 99/500\n",
            "16/16 [==============================] - 0s 3ms/step - loss: 760.0437\n",
            "Epoch 100/500\n",
            "16/16 [==============================] - 0s 2ms/step - loss: 718.7371\n",
            "Epoch 101/500\n",
            "16/16 [==============================] - 0s 2ms/step - loss: 835.8569\n",
            "Epoch 102/500\n",
            "16/16 [==============================] - 0s 2ms/step - loss: 748.0228\n",
            "Epoch 103/500\n",
            "16/16 [==============================] - 0s 2ms/step - loss: 689.1579\n",
            "Epoch 104/500\n",
            "16/16 [==============================] - 0s 2ms/step - loss: 672.2593\n",
            "Epoch 105/500\n",
            "16/16 [==============================] - 0s 3ms/step - loss: 633.3771\n",
            "Epoch 106/500\n",
            "16/16 [==============================] - 0s 3ms/step - loss: 644.7597\n",
            "Epoch 107/500\n",
            "16/16 [==============================] - 0s 3ms/step - loss: 712.1219\n",
            "Epoch 108/500\n",
            "16/16 [==============================] - 0s 3ms/step - loss: 644.7406\n",
            "Epoch 109/500\n",
            "16/16 [==============================] - 0s 3ms/step - loss: 648.8757\n",
            "Epoch 110/500\n",
            "16/16 [==============================] - 0s 3ms/step - loss: 695.9552\n",
            "Epoch 111/500\n",
            "16/16 [==============================] - 0s 3ms/step - loss: 708.9655\n",
            "Epoch 112/500\n",
            "16/16 [==============================] - 0s 2ms/step - loss: 707.4996\n",
            "Epoch 113/500\n",
            "16/16 [==============================] - 0s 3ms/step - loss: 650.4788\n",
            "Epoch 114/500\n",
            "16/16 [==============================] - 0s 3ms/step - loss: 715.1230\n",
            "Epoch 115/500\n",
            "16/16 [==============================] - 0s 2ms/step - loss: 676.8743\n",
            "Epoch 116/500\n",
            "16/16 [==============================] - 0s 2ms/step - loss: 665.9213\n",
            "Epoch 117/500\n",
            "16/16 [==============================] - 0s 2ms/step - loss: 659.5757\n",
            "Epoch 118/500\n",
            "16/16 [==============================] - 0s 3ms/step - loss: 687.1674\n",
            "Epoch 119/500\n",
            "16/16 [==============================] - 0s 2ms/step - loss: 656.5695\n",
            "Epoch 120/500\n",
            "16/16 [==============================] - 0s 2ms/step - loss: 647.8156\n",
            "Epoch 121/500\n",
            "16/16 [==============================] - 0s 2ms/step - loss: 652.6295\n",
            "Epoch 122/500\n",
            "16/16 [==============================] - 0s 2ms/step - loss: 744.2615\n",
            "Epoch 123/500\n",
            "16/16 [==============================] - 0s 2ms/step - loss: 684.1075\n",
            "Epoch 124/500\n",
            "16/16 [==============================] - 0s 2ms/step - loss: 636.5364\n",
            "Epoch 125/500\n",
            "16/16 [==============================] - 0s 2ms/step - loss: 777.1127\n",
            "Epoch 126/500\n",
            "16/16 [==============================] - 0s 2ms/step - loss: 779.8464\n",
            "Epoch 127/500\n",
            "16/16 [==============================] - 0s 2ms/step - loss: 731.9918\n",
            "Epoch 128/500\n",
            "16/16 [==============================] - 0s 2ms/step - loss: 759.5712\n",
            "Epoch 129/500\n",
            "16/16 [==============================] - 0s 2ms/step - loss: 699.7983\n",
            "Epoch 130/500\n",
            "16/16 [==============================] - 0s 2ms/step - loss: 646.4479\n",
            "Epoch 131/500\n",
            "16/16 [==============================] - 0s 2ms/step - loss: 661.7906\n",
            "Epoch 132/500\n",
            "16/16 [==============================] - 0s 2ms/step - loss: 624.8739\n",
            "Epoch 133/500\n",
            "16/16 [==============================] - 0s 2ms/step - loss: 643.1619\n",
            "Epoch 134/500\n",
            "16/16 [==============================] - 0s 2ms/step - loss: 671.7083\n",
            "Epoch 135/500\n",
            "16/16 [==============================] - 0s 2ms/step - loss: 754.1382\n",
            "Epoch 136/500\n",
            "16/16 [==============================] - 0s 2ms/step - loss: 739.5812\n",
            "Epoch 137/500\n",
            "16/16 [==============================] - 0s 2ms/step - loss: 683.1311\n",
            "Epoch 138/500\n",
            "16/16 [==============================] - 0s 2ms/step - loss: 695.2729\n",
            "Epoch 139/500\n",
            "16/16 [==============================] - 0s 2ms/step - loss: 721.6566\n",
            "Epoch 140/500\n",
            "16/16 [==============================] - 0s 3ms/step - loss: 686.5396\n",
            "Epoch 141/500\n",
            "16/16 [==============================] - 0s 3ms/step - loss: 768.7966\n",
            "Epoch 142/500\n",
            "16/16 [==============================] - 0s 3ms/step - loss: 737.8441\n",
            "Epoch 143/500\n",
            "16/16 [==============================] - 0s 3ms/step - loss: 715.6297\n",
            "Epoch 144/500\n",
            "16/16 [==============================] - 0s 3ms/step - loss: 656.4836\n",
            "Epoch 145/500\n",
            "16/16 [==============================] - 0s 3ms/step - loss: 719.6573\n",
            "Epoch 146/500\n",
            "16/16 [==============================] - 0s 3ms/step - loss: 691.0998\n",
            "Epoch 147/500\n",
            "16/16 [==============================] - 0s 3ms/step - loss: 748.8916\n",
            "Epoch 148/500\n",
            "16/16 [==============================] - 0s 3ms/step - loss: 783.0168\n",
            "Epoch 149/500\n",
            "16/16 [==============================] - 0s 3ms/step - loss: 668.0403\n",
            "Epoch 150/500\n",
            "16/16 [==============================] - 0s 3ms/step - loss: 651.8228\n",
            "Epoch 151/500\n",
            "16/16 [==============================] - 0s 3ms/step - loss: 676.2905\n",
            "Epoch 152/500\n",
            "16/16 [==============================] - 0s 3ms/step - loss: 642.4672\n",
            "Epoch 153/500\n",
            "16/16 [==============================] - 0s 3ms/step - loss: 655.3107\n",
            "Epoch 154/500\n",
            "16/16 [==============================] - 0s 3ms/step - loss: 742.5763\n",
            "Epoch 155/500\n",
            "16/16 [==============================] - 0s 3ms/step - loss: 720.2820\n",
            "Epoch 156/500\n",
            "16/16 [==============================] - 0s 3ms/step - loss: 637.5125\n",
            "Epoch 157/500\n",
            "16/16 [==============================] - 0s 3ms/step - loss: 635.8679\n",
            "Epoch 158/500\n",
            "16/16 [==============================] - 0s 3ms/step - loss: 710.2610\n",
            "Epoch 159/500\n",
            "16/16 [==============================] - 0s 3ms/step - loss: 795.2819\n",
            "Epoch 160/500\n",
            "16/16 [==============================] - 0s 3ms/step - loss: 726.2226\n",
            "Epoch 161/500\n",
            "16/16 [==============================] - 0s 3ms/step - loss: 654.7922\n",
            "Epoch 162/500\n",
            "16/16 [==============================] - 0s 3ms/step - loss: 717.0469\n",
            "Epoch 163/500\n",
            "16/16 [==============================] - 0s 2ms/step - loss: 773.8612\n",
            "Epoch 164/500\n",
            "16/16 [==============================] - 0s 3ms/step - loss: 948.8492\n",
            "Epoch 165/500\n",
            "16/16 [==============================] - 0s 2ms/step - loss: 806.8420\n",
            "Epoch 166/500\n",
            "16/16 [==============================] - 0s 3ms/step - loss: 699.7233\n",
            "Epoch 167/500\n",
            "16/16 [==============================] - 0s 3ms/step - loss: 653.5299\n",
            "Epoch 168/500\n",
            "16/16 [==============================] - 0s 3ms/step - loss: 698.9905\n",
            "Epoch 169/500\n",
            "16/16 [==============================] - 0s 3ms/step - loss: 659.4863\n",
            "Epoch 170/500\n",
            "16/16 [==============================] - 0s 3ms/step - loss: 644.3150\n",
            "Epoch 171/500\n",
            "16/16 [==============================] - 0s 3ms/step - loss: 641.8266\n",
            "Epoch 172/500\n",
            "16/16 [==============================] - 0s 3ms/step - loss: 633.3638\n",
            "Epoch 173/500\n",
            "16/16 [==============================] - 0s 3ms/step - loss: 678.5266\n",
            "Epoch 174/500\n",
            "16/16 [==============================] - 0s 3ms/step - loss: 690.8842\n",
            "Epoch 175/500\n",
            "16/16 [==============================] - 0s 3ms/step - loss: 692.6738\n",
            "Epoch 176/500\n",
            "16/16 [==============================] - 0s 3ms/step - loss: 647.8131\n",
            "Epoch 177/500\n",
            "16/16 [==============================] - 0s 3ms/step - loss: 636.4682\n",
            "Epoch 178/500\n",
            "16/16 [==============================] - 0s 3ms/step - loss: 650.5988\n",
            "Epoch 179/500\n",
            "16/16 [==============================] - 0s 3ms/step - loss: 632.2896\n",
            "Epoch 180/500\n",
            "16/16 [==============================] - 0s 3ms/step - loss: 655.8438\n",
            "Epoch 181/500\n",
            "16/16 [==============================] - 0s 3ms/step - loss: 632.0381\n",
            "Epoch 182/500\n",
            "16/16 [==============================] - 0s 3ms/step - loss: 662.9528\n",
            "Epoch 183/500\n",
            "16/16 [==============================] - 0s 4ms/step - loss: 637.2441\n",
            "Epoch 184/500\n",
            "16/16 [==============================] - 0s 3ms/step - loss: 632.6257\n",
            "Epoch 185/500\n",
            "16/16 [==============================] - 0s 3ms/step - loss: 676.8694\n",
            "Epoch 186/500\n",
            "16/16 [==============================] - 0s 3ms/step - loss: 720.4915\n",
            "Epoch 187/500\n",
            "16/16 [==============================] - 0s 2ms/step - loss: 730.6231\n",
            "Epoch 188/500\n",
            "16/16 [==============================] - 0s 2ms/step - loss: 657.1578\n",
            "Epoch 189/500\n",
            "16/16 [==============================] - 0s 2ms/step - loss: 640.7000\n",
            "Epoch 190/500\n",
            "16/16 [==============================] - 0s 2ms/step - loss: 641.9863\n",
            "Epoch 191/500\n",
            "16/16 [==============================] - 0s 3ms/step - loss: 672.7078\n",
            "Epoch 192/500\n",
            "16/16 [==============================] - 0s 3ms/step - loss: 645.6965\n",
            "Epoch 193/500\n",
            "16/16 [==============================] - 0s 3ms/step - loss: 645.5861\n",
            "Epoch 194/500\n",
            "16/16 [==============================] - 0s 3ms/step - loss: 717.4395\n",
            "Epoch 195/500\n",
            "16/16 [==============================] - 0s 3ms/step - loss: 650.8489\n",
            "Epoch 196/500\n",
            "16/16 [==============================] - 0s 2ms/step - loss: 629.7957\n",
            "Epoch 197/500\n",
            "16/16 [==============================] - 0s 2ms/step - loss: 658.6230\n",
            "Epoch 198/500\n",
            "16/16 [==============================] - 0s 3ms/step - loss: 696.8336\n",
            "Epoch 199/500\n",
            "16/16 [==============================] - 0s 5ms/step - loss: 662.7892\n",
            "Epoch 200/500\n",
            "16/16 [==============================] - 0s 5ms/step - loss: 629.9690\n",
            "Epoch 201/500\n",
            "16/16 [==============================] - 0s 4ms/step - loss: 651.6407\n",
            "Epoch 202/500\n",
            "16/16 [==============================] - 0s 4ms/step - loss: 659.7766\n",
            "Epoch 203/500\n",
            "16/16 [==============================] - 0s 4ms/step - loss: 639.2570\n",
            "Epoch 204/500\n",
            "16/16 [==============================] - 0s 3ms/step - loss: 645.2990\n",
            "Epoch 205/500\n",
            "16/16 [==============================] - 0s 3ms/step - loss: 641.3774\n",
            "Epoch 206/500\n",
            "16/16 [==============================] - 0s 3ms/step - loss: 660.9866\n",
            "Epoch 207/500\n",
            "16/16 [==============================] - 0s 3ms/step - loss: 658.5264\n",
            "Epoch 208/500\n",
            "16/16 [==============================] - 0s 4ms/step - loss: 736.3679\n",
            "Epoch 209/500\n",
            "16/16 [==============================] - 0s 3ms/step - loss: 631.8245\n",
            "Epoch 210/500\n",
            "16/16 [==============================] - 0s 4ms/step - loss: 641.2225\n",
            "Epoch 211/500\n",
            "16/16 [==============================] - 0s 3ms/step - loss: 671.4847\n",
            "Epoch 212/500\n",
            "16/16 [==============================] - 0s 3ms/step - loss: 635.5113\n",
            "Epoch 213/500\n",
            "16/16 [==============================] - 0s 4ms/step - loss: 657.5012\n",
            "Epoch 214/500\n",
            "16/16 [==============================] - 0s 5ms/step - loss: 689.8632\n",
            "Epoch 215/500\n",
            "16/16 [==============================] - 0s 4ms/step - loss: 640.2896\n",
            "Epoch 216/500\n",
            "16/16 [==============================] - 0s 4ms/step - loss: 781.7029\n",
            "Epoch 217/500\n",
            "16/16 [==============================] - 0s 4ms/step - loss: 775.0884\n",
            "Epoch 218/500\n",
            "16/16 [==============================] - 0s 4ms/step - loss: 717.8856\n",
            "Epoch 219/500\n",
            "16/16 [==============================] - 0s 5ms/step - loss: 697.5379\n",
            "Epoch 220/500\n",
            "16/16 [==============================] - 0s 5ms/step - loss: 683.6686\n",
            "Epoch 221/500\n",
            "16/16 [==============================] - 0s 5ms/step - loss: 667.4905\n",
            "Epoch 222/500\n",
            "16/16 [==============================] - 0s 5ms/step - loss: 645.5324\n",
            "Epoch 223/500\n",
            "16/16 [==============================] - 0s 5ms/step - loss: 654.8511\n",
            "Epoch 224/500\n",
            "16/16 [==============================] - 0s 5ms/step - loss: 680.4234\n",
            "Epoch 225/500\n",
            "16/16 [==============================] - 0s 4ms/step - loss: 807.1754\n",
            "Epoch 226/500\n",
            "16/16 [==============================] - 0s 4ms/step - loss: 669.3274\n",
            "Epoch 227/500\n",
            "16/16 [==============================] - 0s 3ms/step - loss: 634.3118\n",
            "Epoch 228/500\n",
            "16/16 [==============================] - 0s 3ms/step - loss: 633.3881\n",
            "Epoch 229/500\n",
            "16/16 [==============================] - 0s 3ms/step - loss: 641.0449\n",
            "Epoch 230/500\n",
            "16/16 [==============================] - 0s 3ms/step - loss: 664.7327\n",
            "Epoch 231/500\n",
            "16/16 [==============================] - 0s 3ms/step - loss: 662.4310\n",
            "Epoch 232/500\n",
            "16/16 [==============================] - 0s 3ms/step - loss: 633.4630\n",
            "Epoch 233/500\n",
            "16/16 [==============================] - 0s 3ms/step - loss: 668.6114\n",
            "Epoch 234/500\n",
            "16/16 [==============================] - 0s 2ms/step - loss: 645.3397\n",
            "Epoch 235/500\n",
            "16/16 [==============================] - 0s 3ms/step - loss: 701.5253\n",
            "Epoch 236/500\n",
            "16/16 [==============================] - 0s 3ms/step - loss: 689.1431\n",
            "Epoch 237/500\n",
            "16/16 [==============================] - 0s 3ms/step - loss: 655.8834\n",
            "Epoch 238/500\n",
            "16/16 [==============================] - 0s 3ms/step - loss: 702.9052\n",
            "Epoch 239/500\n",
            "16/16 [==============================] - 0s 2ms/step - loss: 643.2327\n",
            "Epoch 240/500\n",
            "16/16 [==============================] - 0s 3ms/step - loss: 628.8044\n",
            "Epoch 241/500\n",
            "16/16 [==============================] - 0s 3ms/step - loss: 665.1721\n",
            "Epoch 242/500\n",
            "16/16 [==============================] - 0s 3ms/step - loss: 656.3439\n",
            "Epoch 243/500\n",
            "16/16 [==============================] - 0s 3ms/step - loss: 650.7513\n",
            "Epoch 244/500\n",
            "16/16 [==============================] - 0s 3ms/step - loss: 724.2734\n",
            "Epoch 245/500\n",
            "16/16 [==============================] - 0s 3ms/step - loss: 724.6932\n",
            "Epoch 246/500\n",
            "16/16 [==============================] - 0s 3ms/step - loss: 760.0587\n",
            "Epoch 247/500\n",
            "16/16 [==============================] - 0s 4ms/step - loss: 788.3007\n",
            "Epoch 248/500\n",
            "16/16 [==============================] - 0s 3ms/step - loss: 647.9939\n",
            "Epoch 249/500\n",
            "16/16 [==============================] - 0s 3ms/step - loss: 632.7629\n",
            "Epoch 250/500\n",
            "16/16 [==============================] - 0s 3ms/step - loss: 649.2629\n",
            "Epoch 251/500\n",
            "16/16 [==============================] - 0s 3ms/step - loss: 653.8983\n",
            "Epoch 252/500\n",
            "16/16 [==============================] - 0s 3ms/step - loss: 660.8338\n",
            "Epoch 253/500\n",
            "16/16 [==============================] - 0s 3ms/step - loss: 633.2802\n",
            "Epoch 254/500\n",
            "16/16 [==============================] - 0s 2ms/step - loss: 655.2947\n",
            "Epoch 255/500\n",
            "16/16 [==============================] - 0s 3ms/step - loss: 668.4120\n",
            "Epoch 256/500\n",
            "16/16 [==============================] - 0s 3ms/step - loss: 658.4178\n",
            "Epoch 257/500\n",
            "16/16 [==============================] - 0s 3ms/step - loss: 736.6720\n",
            "Epoch 258/500\n",
            "16/16 [==============================] - 0s 3ms/step - loss: 651.7689\n",
            "Epoch 259/500\n",
            "16/16 [==============================] - 0s 2ms/step - loss: 637.8817\n",
            "Epoch 260/500\n",
            "16/16 [==============================] - 0s 2ms/step - loss: 654.1768\n",
            "Epoch 261/500\n",
            "16/16 [==============================] - 0s 3ms/step - loss: 728.3136\n",
            "Epoch 262/500\n",
            "16/16 [==============================] - 0s 2ms/step - loss: 685.1248\n",
            "Epoch 263/500\n",
            "16/16 [==============================] - 0s 2ms/step - loss: 714.4216\n",
            "Epoch 264/500\n",
            "16/16 [==============================] - 0s 2ms/step - loss: 664.8873\n",
            "Epoch 265/500\n",
            "16/16 [==============================] - 0s 2ms/step - loss: 650.0639\n",
            "Epoch 266/500\n",
            "16/16 [==============================] - 0s 2ms/step - loss: 688.3241\n",
            "Epoch 267/500\n",
            "16/16 [==============================] - 0s 2ms/step - loss: 651.0942\n",
            "Epoch 268/500\n",
            "16/16 [==============================] - 0s 3ms/step - loss: 649.8251\n",
            "Epoch 269/500\n",
            "16/16 [==============================] - 0s 2ms/step - loss: 712.8128\n",
            "Epoch 270/500\n",
            "16/16 [==============================] - 0s 2ms/step - loss: 676.2480\n",
            "Epoch 271/500\n",
            "16/16 [==============================] - 0s 3ms/step - loss: 665.1890\n",
            "Epoch 272/500\n",
            "16/16 [==============================] - 0s 2ms/step - loss: 710.5267\n",
            "Epoch 273/500\n",
            "16/16 [==============================] - 0s 2ms/step - loss: 841.2035\n",
            "Epoch 274/500\n",
            "16/16 [==============================] - 0s 2ms/step - loss: 656.3894\n",
            "Epoch 275/500\n",
            "16/16 [==============================] - 0s 2ms/step - loss: 633.7512\n",
            "Epoch 276/500\n",
            "16/16 [==============================] - 0s 2ms/step - loss: 682.7858\n",
            "Epoch 277/500\n",
            "16/16 [==============================] - 0s 2ms/step - loss: 641.5395\n",
            "Epoch 278/500\n",
            "16/16 [==============================] - 0s 2ms/step - loss: 668.0364\n",
            "Epoch 279/500\n",
            "16/16 [==============================] - 0s 3ms/step - loss: 748.2507\n",
            "Epoch 280/500\n",
            "16/16 [==============================] - 0s 2ms/step - loss: 691.4026\n",
            "Epoch 281/500\n",
            "16/16 [==============================] - 0s 2ms/step - loss: 768.9670\n",
            "Epoch 282/500\n",
            "16/16 [==============================] - 0s 2ms/step - loss: 745.1431\n",
            "Epoch 283/500\n",
            "16/16 [==============================] - 0s 2ms/step - loss: 755.1465\n",
            "Epoch 284/500\n",
            "16/16 [==============================] - 0s 2ms/step - loss: 800.0728\n",
            "Epoch 285/500\n",
            "16/16 [==============================] - 0s 3ms/step - loss: 646.1510\n",
            "Epoch 286/500\n",
            "16/16 [==============================] - 0s 2ms/step - loss: 647.9532\n",
            "Epoch 287/500\n",
            "16/16 [==============================] - 0s 2ms/step - loss: 718.8934\n",
            "Epoch 288/500\n",
            "16/16 [==============================] - 0s 2ms/step - loss: 644.1832\n",
            "Epoch 289/500\n",
            "16/16 [==============================] - 0s 2ms/step - loss: 679.3121\n",
            "Epoch 290/500\n",
            "16/16 [==============================] - 0s 2ms/step - loss: 709.4282\n",
            "Epoch 291/500\n",
            "16/16 [==============================] - 0s 2ms/step - loss: 658.6574\n",
            "Epoch 292/500\n",
            "16/16 [==============================] - 0s 2ms/step - loss: 646.3228\n",
            "Epoch 293/500\n",
            "16/16 [==============================] - 0s 2ms/step - loss: 645.8688\n",
            "Epoch 294/500\n",
            "16/16 [==============================] - 0s 2ms/step - loss: 650.7393\n",
            "Epoch 295/500\n",
            "16/16 [==============================] - 0s 3ms/step - loss: 659.1549\n",
            "Epoch 296/500\n",
            "16/16 [==============================] - 0s 2ms/step - loss: 676.3961\n",
            "Epoch 297/500\n",
            "16/16 [==============================] - 0s 2ms/step - loss: 667.2941\n",
            "Epoch 298/500\n",
            "16/16 [==============================] - 0s 2ms/step - loss: 663.1580\n",
            "Epoch 299/500\n",
            "16/16 [==============================] - 0s 2ms/step - loss: 650.0695\n",
            "Epoch 300/500\n",
            "16/16 [==============================] - 0s 2ms/step - loss: 641.0206\n",
            "Epoch 301/500\n",
            "16/16 [==============================] - 0s 2ms/step - loss: 637.5784\n",
            "Epoch 302/500\n",
            "16/16 [==============================] - 0s 3ms/step - loss: 634.0731\n",
            "Epoch 303/500\n",
            "16/16 [==============================] - 0s 2ms/step - loss: 709.5404\n",
            "Epoch 304/500\n",
            "16/16 [==============================] - 0s 2ms/step - loss: 656.0193\n",
            "Epoch 305/500\n",
            "16/16 [==============================] - 0s 2ms/step - loss: 701.8654\n",
            "Epoch 306/500\n",
            "16/16 [==============================] - 0s 2ms/step - loss: 679.0196\n",
            "Epoch 307/500\n",
            "16/16 [==============================] - 0s 2ms/step - loss: 641.2473\n",
            "Epoch 308/500\n",
            "16/16 [==============================] - 0s 2ms/step - loss: 720.5429\n",
            "Epoch 309/500\n",
            "16/16 [==============================] - 0s 2ms/step - loss: 700.3664\n",
            "Epoch 310/500\n",
            "16/16 [==============================] - 0s 3ms/step - loss: 705.0439\n",
            "Epoch 311/500\n",
            "16/16 [==============================] - 0s 2ms/step - loss: 661.8300\n",
            "Epoch 312/500\n",
            "16/16 [==============================] - 0s 3ms/step - loss: 651.5544\n",
            "Epoch 313/500\n",
            "16/16 [==============================] - 0s 2ms/step - loss: 665.7056\n",
            "Epoch 314/500\n",
            "16/16 [==============================] - 0s 2ms/step - loss: 679.0591\n",
            "Epoch 315/500\n",
            "16/16 [==============================] - 0s 2ms/step - loss: 665.0986\n",
            "Epoch 316/500\n",
            "16/16 [==============================] - 0s 3ms/step - loss: 628.4037\n",
            "Epoch 317/500\n",
            "16/16 [==============================] - 0s 2ms/step - loss: 645.1788\n",
            "Epoch 318/500\n",
            "16/16 [==============================] - 0s 2ms/step - loss: 643.1257\n",
            "Epoch 319/500\n",
            "16/16 [==============================] - 0s 2ms/step - loss: 636.9427\n",
            "Epoch 320/500\n",
            "16/16 [==============================] - 0s 3ms/step - loss: 642.0051\n",
            "Epoch 321/500\n",
            "16/16 [==============================] - 0s 2ms/step - loss: 697.2418\n",
            "Epoch 322/500\n",
            "16/16 [==============================] - 0s 2ms/step - loss: 725.9698\n",
            "Epoch 323/500\n",
            "16/16 [==============================] - 0s 3ms/step - loss: 661.2602\n",
            "Epoch 324/500\n",
            "16/16 [==============================] - 0s 2ms/step - loss: 642.1135\n",
            "Epoch 325/500\n",
            "16/16 [==============================] - 0s 2ms/step - loss: 671.0812\n",
            "Epoch 326/500\n",
            "16/16 [==============================] - 0s 3ms/step - loss: 648.7067\n",
            "Epoch 327/500\n",
            "16/16 [==============================] - 0s 2ms/step - loss: 632.6379\n",
            "Epoch 328/500\n",
            "16/16 [==============================] - 0s 3ms/step - loss: 632.1498\n",
            "Epoch 329/500\n",
            "16/16 [==============================] - 0s 3ms/step - loss: 813.2419\n",
            "Epoch 330/500\n",
            "16/16 [==============================] - 0s 3ms/step - loss: 779.6597\n",
            "Epoch 331/500\n",
            "16/16 [==============================] - 0s 3ms/step - loss: 640.6334\n",
            "Epoch 332/500\n",
            "16/16 [==============================] - 0s 3ms/step - loss: 677.9605\n",
            "Epoch 333/500\n",
            "16/16 [==============================] - 0s 2ms/step - loss: 682.0576\n",
            "Epoch 334/500\n",
            "16/16 [==============================] - 0s 3ms/step - loss: 708.2694\n",
            "Epoch 335/500\n",
            "16/16 [==============================] - 0s 3ms/step - loss: 735.2039\n",
            "Epoch 336/500\n",
            "16/16 [==============================] - 0s 3ms/step - loss: 760.4334\n",
            "Epoch 337/500\n",
            "16/16 [==============================] - 0s 3ms/step - loss: 636.9182\n",
            "Epoch 338/500\n",
            "16/16 [==============================] - 0s 3ms/step - loss: 672.6342\n",
            "Epoch 339/500\n",
            "16/16 [==============================] - 0s 3ms/step - loss: 694.4021\n",
            "Epoch 340/500\n",
            "16/16 [==============================] - 0s 2ms/step - loss: 695.0401\n",
            "Epoch 341/500\n",
            "16/16 [==============================] - 0s 3ms/step - loss: 671.4731\n",
            "Epoch 342/500\n",
            "16/16 [==============================] - 0s 3ms/step - loss: 706.6045\n",
            "Epoch 343/500\n",
            "16/16 [==============================] - 0s 4ms/step - loss: 676.6772\n",
            "Epoch 344/500\n",
            "16/16 [==============================] - 0s 3ms/step - loss: 638.1251\n",
            "Epoch 345/500\n",
            "16/16 [==============================] - 0s 3ms/step - loss: 650.4418\n",
            "Epoch 346/500\n",
            "16/16 [==============================] - 0s 2ms/step - loss: 638.6083\n",
            "Epoch 347/500\n",
            "16/16 [==============================] - 0s 2ms/step - loss: 643.0991\n",
            "Epoch 348/500\n",
            "16/16 [==============================] - 0s 3ms/step - loss: 716.5852\n",
            "Epoch 349/500\n",
            "16/16 [==============================] - 0s 3ms/step - loss: 651.7735\n",
            "Epoch 350/500\n",
            "16/16 [==============================] - 0s 2ms/step - loss: 636.4769\n",
            "Epoch 351/500\n",
            "16/16 [==============================] - 0s 2ms/step - loss: 648.9208\n",
            "Epoch 352/500\n",
            "16/16 [==============================] - 0s 2ms/step - loss: 652.5311\n",
            "Epoch 353/500\n",
            "16/16 [==============================] - 0s 2ms/step - loss: 637.9507\n",
            "Epoch 354/500\n",
            "16/16 [==============================] - 0s 2ms/step - loss: 646.7090\n",
            "Epoch 355/500\n",
            "16/16 [==============================] - 0s 3ms/step - loss: 648.9343\n",
            "Epoch 356/500\n",
            "16/16 [==============================] - 0s 3ms/step - loss: 702.1744\n",
            "Epoch 357/500\n",
            "16/16 [==============================] - 0s 3ms/step - loss: 652.6430\n",
            "Epoch 358/500\n",
            "16/16 [==============================] - 0s 2ms/step - loss: 661.2328\n",
            "Epoch 359/500\n",
            "16/16 [==============================] - 0s 3ms/step - loss: 686.9907\n",
            "Epoch 360/500\n",
            "16/16 [==============================] - 0s 3ms/step - loss: 656.9661\n",
            "Epoch 361/500\n",
            "16/16 [==============================] - 0s 3ms/step - loss: 643.0361\n",
            "Epoch 362/500\n",
            "16/16 [==============================] - 0s 3ms/step - loss: 632.9351\n",
            "Epoch 363/500\n",
            "16/16 [==============================] - 0s 4ms/step - loss: 655.8594\n",
            "Epoch 364/500\n",
            "16/16 [==============================] - 0s 3ms/step - loss: 671.3669\n",
            "Epoch 365/500\n",
            "16/16 [==============================] - 0s 2ms/step - loss: 697.9554\n",
            "Epoch 366/500\n",
            "16/16 [==============================] - 0s 3ms/step - loss: 661.1840\n",
            "Epoch 367/500\n",
            "16/16 [==============================] - 0s 3ms/step - loss: 656.4176\n",
            "Epoch 368/500\n",
            "16/16 [==============================] - 0s 2ms/step - loss: 766.4973\n",
            "Epoch 369/500\n",
            "16/16 [==============================] - 0s 2ms/step - loss: 711.1729\n",
            "Epoch 370/500\n",
            "16/16 [==============================] - 0s 4ms/step - loss: 658.1970\n",
            "Epoch 371/500\n",
            "16/16 [==============================] - 0s 3ms/step - loss: 653.0294\n",
            "Epoch 372/500\n",
            "16/16 [==============================] - 0s 3ms/step - loss: 635.5236\n",
            "Epoch 373/500\n",
            "16/16 [==============================] - 0s 4ms/step - loss: 628.0074\n",
            "Epoch 374/500\n",
            "16/16 [==============================] - 0s 3ms/step - loss: 668.0305\n",
            "Epoch 375/500\n",
            "16/16 [==============================] - 0s 3ms/step - loss: 679.4461\n",
            "Epoch 376/500\n",
            "16/16 [==============================] - 0s 3ms/step - loss: 731.7632\n",
            "Epoch 377/500\n",
            "16/16 [==============================] - 0s 3ms/step - loss: 667.1168\n",
            "Epoch 378/500\n",
            "16/16 [==============================] - 0s 3ms/step - loss: 658.1386\n",
            "Epoch 379/500\n",
            "16/16 [==============================] - 0s 3ms/step - loss: 638.1303\n",
            "Epoch 380/500\n",
            "16/16 [==============================] - 0s 3ms/step - loss: 634.9257\n",
            "Epoch 381/500\n",
            "16/16 [==============================] - 0s 3ms/step - loss: 643.6608\n",
            "Epoch 382/500\n",
            "16/16 [==============================] - 0s 3ms/step - loss: 688.4464\n",
            "Epoch 383/500\n",
            "16/16 [==============================] - 0s 3ms/step - loss: 710.2974\n",
            "Epoch 384/500\n",
            "16/16 [==============================] - 0s 3ms/step - loss: 638.0156\n",
            "Epoch 385/500\n",
            "16/16 [==============================] - 0s 3ms/step - loss: 631.8065\n",
            "Epoch 386/500\n",
            "16/16 [==============================] - 0s 2ms/step - loss: 660.0620\n",
            "Epoch 387/500\n",
            "16/16 [==============================] - 0s 3ms/step - loss: 629.9150\n",
            "Epoch 388/500\n",
            "16/16 [==============================] - 0s 3ms/step - loss: 694.3242\n",
            "Epoch 389/500\n",
            "16/16 [==============================] - 0s 2ms/step - loss: 680.8618\n",
            "Epoch 390/500\n",
            "16/16 [==============================] - 0s 2ms/step - loss: 645.2562\n",
            "Epoch 391/500\n",
            "16/16 [==============================] - 0s 2ms/step - loss: 641.7906\n",
            "Epoch 392/500\n",
            "16/16 [==============================] - 0s 2ms/step - loss: 638.9084\n",
            "Epoch 393/500\n",
            "16/16 [==============================] - 0s 2ms/step - loss: 633.3854\n",
            "Epoch 394/500\n",
            "16/16 [==============================] - 0s 2ms/step - loss: 630.0754\n",
            "Epoch 395/500\n",
            "16/16 [==============================] - 0s 2ms/step - loss: 653.4443\n",
            "Epoch 396/500\n",
            "16/16 [==============================] - 0s 2ms/step - loss: 671.1656\n",
            "Epoch 397/500\n",
            "16/16 [==============================] - 0s 3ms/step - loss: 656.6693\n",
            "Epoch 398/500\n",
            "16/16 [==============================] - 0s 2ms/step - loss: 734.1474\n",
            "Epoch 399/500\n",
            "16/16 [==============================] - 0s 2ms/step - loss: 638.5966\n",
            "Epoch 400/500\n",
            "16/16 [==============================] - 0s 2ms/step - loss: 654.1659\n",
            "Epoch 401/500\n",
            "16/16 [==============================] - 0s 2ms/step - loss: 654.1566\n",
            "Epoch 402/500\n",
            "16/16 [==============================] - 0s 3ms/step - loss: 696.7728\n",
            "Epoch 403/500\n",
            "16/16 [==============================] - 0s 2ms/step - loss: 665.7877\n",
            "Epoch 404/500\n",
            "16/16 [==============================] - 0s 2ms/step - loss: 651.0320\n",
            "Epoch 405/500\n",
            "16/16 [==============================] - 0s 2ms/step - loss: 699.9227\n",
            "Epoch 406/500\n",
            "16/16 [==============================] - 0s 2ms/step - loss: 673.8892\n",
            "Epoch 407/500\n",
            "16/16 [==============================] - 0s 2ms/step - loss: 637.2852\n",
            "Epoch 408/500\n",
            "16/16 [==============================] - 0s 2ms/step - loss: 651.8572\n",
            "Epoch 409/500\n",
            "16/16 [==============================] - 0s 2ms/step - loss: 678.8359\n",
            "Epoch 410/500\n",
            "16/16 [==============================] - 0s 3ms/step - loss: 699.7456\n",
            "Epoch 411/500\n",
            "16/16 [==============================] - 0s 2ms/step - loss: 628.2482\n",
            "Epoch 412/500\n",
            "16/16 [==============================] - 0s 2ms/step - loss: 649.4171\n",
            "Epoch 413/500\n",
            "16/16 [==============================] - 0s 2ms/step - loss: 645.7360\n",
            "Epoch 414/500\n",
            "16/16 [==============================] - 0s 2ms/step - loss: 706.5703\n",
            "Epoch 415/500\n",
            "16/16 [==============================] - 0s 2ms/step - loss: 753.2917\n",
            "Epoch 416/500\n",
            "16/16 [==============================] - 0s 2ms/step - loss: 632.2847\n",
            "Epoch 417/500\n",
            "16/16 [==============================] - 0s 3ms/step - loss: 655.3902\n",
            "Epoch 418/500\n",
            "16/16 [==============================] - 0s 2ms/step - loss: 643.0167\n",
            "Epoch 419/500\n",
            "16/16 [==============================] - 0s 2ms/step - loss: 649.4568\n",
            "Epoch 420/500\n",
            "16/16 [==============================] - 0s 2ms/step - loss: 685.3878\n",
            "Epoch 421/500\n",
            "16/16 [==============================] - 0s 2ms/step - loss: 654.8163\n",
            "Epoch 422/500\n",
            "16/16 [==============================] - 0s 2ms/step - loss: 671.6222\n",
            "Epoch 423/500\n",
            "16/16 [==============================] - 0s 2ms/step - loss: 670.3474\n",
            "Epoch 424/500\n",
            "16/16 [==============================] - 0s 3ms/step - loss: 642.5201\n",
            "Epoch 425/500\n",
            "16/16 [==============================] - 0s 2ms/step - loss: 673.2820\n",
            "Epoch 426/500\n",
            "16/16 [==============================] - 0s 2ms/step - loss: 674.9919\n",
            "Epoch 427/500\n",
            "16/16 [==============================] - 0s 2ms/step - loss: 754.5120\n",
            "Epoch 428/500\n",
            "16/16 [==============================] - 0s 2ms/step - loss: 697.0864\n",
            "Epoch 429/500\n",
            "16/16 [==============================] - 0s 2ms/step - loss: 672.9643\n",
            "Epoch 430/500\n",
            "16/16 [==============================] - 0s 2ms/step - loss: 692.4225\n",
            "Epoch 431/500\n",
            "16/16 [==============================] - 0s 2ms/step - loss: 683.3768\n",
            "Epoch 432/500\n",
            "16/16 [==============================] - 0s 3ms/step - loss: 818.2986\n",
            "Epoch 433/500\n",
            "16/16 [==============================] - 0s 2ms/step - loss: 822.1281\n",
            "Epoch 434/500\n",
            "16/16 [==============================] - 0s 2ms/step - loss: 674.5033\n",
            "Epoch 435/500\n",
            "16/16 [==============================] - 0s 3ms/step - loss: 645.3795\n",
            "Epoch 436/500\n",
            "16/16 [==============================] - 0s 2ms/step - loss: 643.8600\n",
            "Epoch 437/500\n",
            "16/16 [==============================] - 0s 2ms/step - loss: 631.6791\n",
            "Epoch 438/500\n",
            "16/16 [==============================] - 0s 2ms/step - loss: 712.7977\n",
            "Epoch 439/500\n",
            "16/16 [==============================] - 0s 2ms/step - loss: 662.4671\n",
            "Epoch 440/500\n",
            "16/16 [==============================] - 0s 2ms/step - loss: 669.2772\n",
            "Epoch 441/500\n",
            "16/16 [==============================] - 0s 2ms/step - loss: 648.0874\n",
            "Epoch 442/500\n",
            "16/16 [==============================] - 0s 2ms/step - loss: 655.5240\n",
            "Epoch 443/500\n",
            "16/16 [==============================] - 0s 3ms/step - loss: 688.5887\n",
            "Epoch 444/500\n",
            "16/16 [==============================] - 0s 2ms/step - loss: 640.9034\n",
            "Epoch 445/500\n",
            "16/16 [==============================] - 0s 3ms/step - loss: 656.4462\n",
            "Epoch 446/500\n",
            "16/16 [==============================] - 0s 2ms/step - loss: 630.5789\n",
            "Epoch 447/500\n",
            "16/16 [==============================] - 0s 3ms/step - loss: 707.2783\n",
            "Epoch 448/500\n",
            "16/16 [==============================] - 0s 2ms/step - loss: 661.3373\n",
            "Epoch 449/500\n",
            "16/16 [==============================] - 0s 2ms/step - loss: 639.6989\n",
            "Epoch 450/500\n",
            "16/16 [==============================] - 0s 2ms/step - loss: 640.1033\n",
            "Epoch 451/500\n",
            "16/16 [==============================] - 0s 2ms/step - loss: 672.7583\n",
            "Epoch 452/500\n",
            "16/16 [==============================] - 0s 2ms/step - loss: 675.1392\n",
            "Epoch 453/500\n",
            "16/16 [==============================] - 0s 3ms/step - loss: 634.9873\n",
            "Epoch 454/500\n",
            "16/16 [==============================] - 0s 2ms/step - loss: 706.2798\n",
            "Epoch 455/500\n",
            "16/16 [==============================] - 0s 2ms/step - loss: 661.9105\n",
            "Epoch 456/500\n",
            "16/16 [==============================] - 0s 2ms/step - loss: 760.2725\n",
            "Epoch 457/500\n",
            "16/16 [==============================] - 0s 2ms/step - loss: 677.1507\n",
            "Epoch 458/500\n",
            "16/16 [==============================] - 0s 3ms/step - loss: 769.5953\n",
            "Epoch 459/500\n",
            "16/16 [==============================] - 0s 2ms/step - loss: 659.1004\n",
            "Epoch 460/500\n",
            "16/16 [==============================] - 0s 2ms/step - loss: 691.2919\n",
            "Epoch 461/500\n",
            "16/16 [==============================] - 0s 2ms/step - loss: 672.1287\n",
            "Epoch 462/500\n",
            "16/16 [==============================] - 0s 2ms/step - loss: 654.8247\n",
            "Epoch 463/500\n",
            "16/16 [==============================] - 0s 2ms/step - loss: 704.6691\n",
            "Epoch 464/500\n",
            "16/16 [==============================] - 0s 2ms/step - loss: 690.9109\n",
            "Epoch 465/500\n",
            "16/16 [==============================] - 0s 4ms/step - loss: 666.4637\n",
            "Epoch 466/500\n",
            "16/16 [==============================] - 0s 4ms/step - loss: 665.7722\n",
            "Epoch 467/500\n",
            "16/16 [==============================] - 0s 3ms/step - loss: 647.9499\n",
            "Epoch 468/500\n",
            "16/16 [==============================] - 0s 4ms/step - loss: 683.0094\n",
            "Epoch 469/500\n",
            "16/16 [==============================] - 0s 4ms/step - loss: 672.8721\n",
            "Epoch 470/500\n",
            "16/16 [==============================] - 0s 3ms/step - loss: 663.9897\n",
            "Epoch 471/500\n",
            "16/16 [==============================] - 0s 3ms/step - loss: 664.7377\n",
            "Epoch 472/500\n",
            "16/16 [==============================] - 0s 3ms/step - loss: 644.0552\n",
            "Epoch 473/500\n",
            "16/16 [==============================] - 0s 3ms/step - loss: 658.0258\n",
            "Epoch 474/500\n",
            "16/16 [==============================] - 0s 3ms/step - loss: 651.5908\n",
            "Epoch 475/500\n",
            "16/16 [==============================] - 0s 3ms/step - loss: 631.8862\n",
            "Epoch 476/500\n",
            "16/16 [==============================] - 0s 3ms/step - loss: 648.2632\n",
            "Epoch 477/500\n",
            "16/16 [==============================] - 0s 3ms/step - loss: 646.6172\n",
            "Epoch 478/500\n",
            "16/16 [==============================] - 0s 3ms/step - loss: 719.6450\n",
            "Epoch 479/500\n",
            "16/16 [==============================] - 0s 3ms/step - loss: 697.5812\n",
            "Epoch 480/500\n",
            "16/16 [==============================] - 0s 3ms/step - loss: 653.6490\n",
            "Epoch 481/500\n",
            "16/16 [==============================] - 0s 3ms/step - loss: 642.5736\n",
            "Epoch 482/500\n",
            "16/16 [==============================] - 0s 3ms/step - loss: 645.7530\n",
            "Epoch 483/500\n",
            "16/16 [==============================] - 0s 4ms/step - loss: 673.2442\n",
            "Epoch 484/500\n",
            "16/16 [==============================] - 0s 3ms/step - loss: 716.1371\n",
            "Epoch 485/500\n",
            "16/16 [==============================] - 0s 3ms/step - loss: 652.7385\n",
            "Epoch 486/500\n",
            "16/16 [==============================] - 0s 2ms/step - loss: 647.7000\n",
            "Epoch 487/500\n",
            "16/16 [==============================] - 0s 3ms/step - loss: 626.8465\n",
            "Epoch 488/500\n",
            "16/16 [==============================] - 0s 3ms/step - loss: 640.6669\n",
            "Epoch 489/500\n",
            "16/16 [==============================] - 0s 3ms/step - loss: 672.5952\n",
            "Epoch 490/500\n",
            "16/16 [==============================] - 0s 3ms/step - loss: 649.8305\n",
            "Epoch 491/500\n",
            "16/16 [==============================] - 0s 3ms/step - loss: 670.5181\n",
            "Epoch 492/500\n",
            "16/16 [==============================] - 0s 3ms/step - loss: 786.2385\n",
            "Epoch 493/500\n",
            "16/16 [==============================] - 0s 4ms/step - loss: 693.6667\n",
            "Epoch 494/500\n",
            "16/16 [==============================] - 0s 4ms/step - loss: 777.6675\n",
            "Epoch 495/500\n",
            "16/16 [==============================] - 0s 3ms/step - loss: 706.5070\n",
            "Epoch 496/500\n",
            "16/16 [==============================] - 0s 6ms/step - loss: 630.5793\n",
            "Epoch 497/500\n",
            "16/16 [==============================] - 0s 4ms/step - loss: 649.8532\n",
            "Epoch 498/500\n",
            "16/16 [==============================] - 0s 6ms/step - loss: 699.8983\n",
            "Epoch 499/500\n",
            "16/16 [==============================] - 0s 5ms/step - loss: 634.2467\n",
            "Epoch 500/500\n",
            "16/16 [==============================] - 0s 5ms/step - loss: 756.9038\n"
          ]
        }
      ]
    },
    {
      "cell_type": "markdown",
      "source": [
        "# Etapa 6- Avaliação do modelo"
      ],
      "metadata": {
        "id": "cNTPee5I-OcG"
      }
    },
    {
      "cell_type": "code",
      "source": [
        "epochs_hist.history.keys()"
      ],
      "metadata": {
        "colab": {
          "base_uri": "https://localhost:8080/"
        },
        "id": "8cqWpoPo-M9f",
        "outputId": "0bcd6ac1-cc5f-46fc-9182-ea7f088a0a4c"
      },
      "execution_count": 40,
      "outputs": [
        {
          "output_type": "execute_result",
          "data": {
            "text/plain": [
              "dict_keys(['loss'])"
            ]
          },
          "metadata": {},
          "execution_count": 40
        }
      ]
    },
    {
      "cell_type": "code",
      "source": [
        "plt.plot(epochs_hist.history['loss'])\n",
        "plt.title('Model Loss Progress During Training')\n",
        "plt.xlabel('Epoch')\n",
        "plt.ylabel('Training Loss')\n",
        "plt.legend(['Training Loss'])"
      ],
      "metadata": {
        "colab": {
          "base_uri": "https://localhost:8080/",
          "height": 489
        },
        "id": "B3gVuXMk4LJw",
        "outputId": "90b74348-5487-4ede-fc96-e10c300d7482"
      },
      "execution_count": 41,
      "outputs": [
        {
          "output_type": "execute_result",
          "data": {
            "text/plain": [
              "<matplotlib.legend.Legend at 0x7c9db91f9a50>"
            ]
          },
          "metadata": {},
          "execution_count": 41
        },
        {
          "output_type": "display_data",
          "data": {
            "text/plain": [
              "<Figure size 640x480 with 1 Axes>"
            ],
            "image/png": "[encoded data removed]"
          },
          "metadata": {}
        }
      ]
    },
    {
      "cell_type": "markdown",
      "source": [
        "Não tivemos uma boa adaptação a essa base de dados, os valores oscilan demasiadamente\n"
      ],
      "metadata": {
        "id": "wVUJLwZnm76q"
      }
    },
    {
      "cell_type": "code",
      "source": [
        "model.get_weights()"
      ],
      "metadata": {
        "colab": {
          "base_uri": "https://localhost:8080/"
        },
        "id": "QCzgaXAs4LNl",
        "outputId": "a7c76a80-4e05-4d3d-dd44-d2acb84ddd41"
      },
      "execution_count": 43,
      "outputs": [
        {
          "output_type": "execute_result",
          "data": {
            "text/plain": [
              "[array([[ 0.01974632,  0.07066118, -0.3325793 , -0.09673753,  0.3388525 ,\n",
              "         -0.01382587, -0.02066908,  3.3476586 , -0.01227553, -3.126269  ]],\n",
              "       dtype=float32),\n",
              " array([-3.6982682e-01, -1.3262185e+00, -2.2186508e+00, -1.5649572e-03,\n",
              "        -1.0371180e-01,  2.6157370e-01,  3.0098873e-01,  5.0657377e+00,\n",
              "         3.2691833e-01, -4.8667636e+00], dtype=float32),\n",
              " array([[ 5.8362852e-03],\n",
              "        [ 1.7364349e-02],\n",
              "        [-4.0485328e-01],\n",
              "        [ 8.7217405e-02],\n",
              "        [-3.1461948e-01],\n",
              "        [-3.5349119e-03],\n",
              "        [ 6.5214711e-04],\n",
              "        [ 3.4135277e+00],\n",
              "        [-5.8567477e-04],\n",
              "        [-3.1948721e+00]], dtype=float32),\n",
              " array([11.003462], dtype=float32)]"
            ]
          },
          "metadata": {},
          "execution_count": 43
        }
      ]
    },
    {
      "cell_type": "markdown",
      "source": [
        "## Etapa 6A - Previsão com o modelo treinado"
      ],
      "metadata": {
        "id": "nGPb3TI0-tmt"
      }
    },
    {
      "cell_type": "code",
      "source": [
        "\n",
        "temp = 25\n",
        "revenue = model.predict([temp])\n",
        "print('Revenue Predictions Using Trained ANN =', revenue)"
      ],
      "metadata": {
        "colab": {
          "base_uri": "https://localhost:8080/"
        },
        "id": "IDE_tCLZ8Zn2",
        "outputId": "c44801c9-478f-41d1-936a-9fec40ab162b"
      },
      "execution_count": 65,
      "outputs": [
        {
          "output_type": "stream",
          "name": "stdout",
          "text": [
            "1/1 [==============================] - 0s 62ms/step\n",
            "Revenue Predictions Using Trained ANN = [[580.6573]]\n"
          ]
        }
      ]
    },
    {
      "cell_type": "code",
      "source": [
        "plt.scatter(X_train, y_train, color = 'gray')\n",
        "plt.plot(X_train, model.predict(X_train), color = 'red')\n",
        "plt.ylabel('Revenue [dollars]')\n",
        "plt.xlabel('Temperature [degC]')\n",
        "plt.title('Revenue Generated vs. Temperature @Ice Cream Stand');"
      ],
      "metadata": {
        "colab": {
          "base_uri": "https://localhost:8080/",
          "height": 489
        },
        "id": "8aRer_LP__uh",
        "outputId": "d7a3bd9a-d2dd-4d84-ad5b-8cf75ce8689e"
      },
      "execution_count": 66,
      "outputs": [
        {
          "output_type": "stream",
          "name": "stdout",
          "text": [
            "16/16 [==============================] - 0s 3ms/step\n"
          ]
        },
        {
          "output_type": "display_data",
          "data": {
            "text/plain": [
              "<Figure size 640x480 with 1 Axes>"
            ],
            "image/png": "[encoded data removed]"
          },
          "metadata": {}
        }
      ]
    },
    {
      "cell_type": "markdown",
      "source": [
        "# Etapa 7- Confirmação de resultados usando sklearn"
      ],
      "metadata": {
        "id": "UmeN870NAcTu"
      }
    },
    {
      "cell_type": "code",
      "metadata": {
        "id": "d8NQdaogZuZT",
        "colab": {
          "base_uri": "https://localhost:8080/"
        },
        "outputId": "c61aa88d-6e77-4296-9e62-10f5626b30b0"
      },
      "source": [
        "X_train.shape"
      ],
      "execution_count": 50,
      "outputs": [
        {
          "output_type": "execute_result",
          "data": {
            "text/plain": [
              "(500,)"
            ]
          },
          "metadata": {},
          "execution_count": 50
        }
      ]
    },
    {
      "cell_type": "code",
      "metadata": {
        "id": "u0opno5fZord"
      },
      "source": [
        "X_train = X_train.values.reshape(-1,1)"
      ],
      "execution_count": 51,
      "outputs": []
    },
    {
      "cell_type": "code",
      "metadata": {
        "id": "ddFtL9XcZ5zT",
        "colab": {
          "base_uri": "https://localhost:8080/"
        },
        "outputId": "d0a2f200-e1b6-42f6-c339-3e0c8f746b51"
      },
      "source": [
        "X_train.shape"
      ],
      "execution_count": 52,
      "outputs": [
        {
          "output_type": "execute_result",
          "data": {
            "text/plain": [
              "(500, 1)"
            ]
          },
          "metadata": {},
          "execution_count": 52
        }
      ]
    },
    {
      "cell_type": "code",
      "metadata": {
        "id": "KqF0GQmXZ9Eq"
      },
      "source": [
        "y_train = y_train.values.reshape(-1,1)"
      ],
      "execution_count": 53,
      "outputs": []
    },
    {
      "cell_type": "code",
      "metadata": {
        "id": "ocZBYHZ7aA_1",
        "colab": {
          "base_uri": "https://localhost:8080/"
        },
        "outputId": "4a5b3036-08dd-4082-840d-4699e73d3aec"
      },
      "source": [
        "y_train.shape"
      ],
      "execution_count": 54,
      "outputs": [
        {
          "output_type": "execute_result",
          "data": {
            "text/plain": [
              "(500, 1)"
            ]
          },
          "metadata": {},
          "execution_count": 54
        }
      ]
    },
    {
      "cell_type": "code",
      "metadata": {
        "id": "3B5X5wjqaDf6",
        "colab": {
          "base_uri": "https://localhost:8080/",
          "height": 74
        },
        "outputId": "ac2f3054-6f12-4567-ecd7-0a2d0988df25"
      },
      "source": [
        "from sklearn.linear_model import LinearRegression\n",
        "regressor = LinearRegression()\n",
        "regressor.fit(X_train, y_train)"
      ],
      "execution_count": 55,
      "outputs": [
        {
          "output_type": "execute_result",
          "data": {
            "text/plain": [
              "LinearRegression()"
            ],
            "text/html": [
              "<style>#sk-container-id-2 {color: black;background-color: white;}#sk-container-id-2 pre{padding: 0;}#sk-container-id-2 div.sk-toggleable {background-color: white;}#sk-container-id-2 label.sk-toggleable__label {cursor: pointer;display: block;width: 100%;margin-bottom: 0;padding: 0.3em;box-sizing: border-box;text-align: center;}#sk-container-id-2 label.sk-toggleable__label-arrow:before {content: \"▸\";float: left;margin-right: 0.25em;color: #696969;}#sk-container-id-2 label.sk-toggleable__label-arrow:hover:before {color: black;}#sk-container-id-2 div.sk-estimator:hover label.sk-toggleable__label-arrow:before {color: black;}#sk-container-id-2 div.sk-toggleable__content {max-height: 0;max-width: 0;overflow: hidden;text-align: left;background-color: #f0f8ff;}#sk-container-id-2 div.sk-toggleable__content pre {margin: 0.2em;color: black;border-radius: 0.25em;background-color: #f0f8ff;}#sk-container-id-2 input.sk-toggleable__control:checked~div.sk-toggleable__content {max-height: 200px;max-width: 100%;overflow: auto;}#sk-container-id-2 input.sk-toggleable__control:checked~label.sk-toggleable__label-arrow:before {content: \"▾\";}#sk-container-id-2 div.sk-estimator input.sk-toggleable__control:checked~label.sk-toggleable__label {background-color: #d4ebff;}#sk-container-id-2 div.sk-label input.sk-toggleable__control:checked~label.sk-toggleable__label {background-color: #d4ebff;}#sk-container-id-2 input.sk-hidden--visually {border: 0;clip: rect(1px 1px 1px 1px);clip: rect(1px, 1px, 1px, 1px);height: 1px;margin: -1px;overflow: hidden;padding: 0;position: absolute;width: 1px;}#sk-container-id-2 div.sk-estimator {font-family: monospace;background-color: #f0f8ff;border: 1px dotted black;border-radius: 0.25em;box-sizing: border-box;margin-bottom: 0.5em;}#sk-container-id-2 div.sk-estimator:hover {background-color: #d4ebff;}#sk-container-id-2 div.sk-parallel-item::after {content: \"\";width: 100%;border-bottom: 1px solid gray;flex-grow: 1;}#sk-container-id-2 div.sk-label:hover label.sk-toggleable__label {background-color: #d4ebff;}#sk-container-id-2 div.sk-serial::before {content: \"\";position: absolute;border-left: 1px solid gray;box-sizing: border-box;top: 0;bottom: 0;left: 50%;z-index: 0;}#sk-container-id-2 div.sk-serial {display: flex;flex-direction: column;align-items: center;background-color: white;padding-right: 0.2em;padding-left: 0.2em;position: relative;}#sk-container-id-2 div.sk-item {position: relative;z-index: 1;}#sk-container-id-2 div.sk-parallel {display: flex;align-items: stretch;justify-content: center;background-color: white;position: relative;}#sk-container-id-2 div.sk-item::before, #sk-container-id-2 div.sk-parallel-item::before {content: \"\";position: absolute;border-left: 1px solid gray;box-sizing: border-box;top: 0;bottom: 0;left: 50%;z-index: -1;}#sk-container-id-2 div.sk-parallel-item {display: flex;flex-direction: column;z-index: 1;position: relative;background-color: white;}#sk-container-id-2 div.sk-parallel-item:first-child::after {align-self: flex-end;width: 50%;}#sk-container-id-2 div.sk-parallel-item:last-child::after {align-self: flex-start;width: 50%;}#sk-container-id-2 div.sk-parallel-item:only-child::after {width: 0;}#sk-container-id-2 div.sk-dashed-wrapped {border: 1px dashed gray;margin: 0 0.4em 0.5em 0.4em;box-sizing: border-box;padding-bottom: 0.4em;background-color: white;}#sk-container-id-2 div.sk-label label {font-family: monospace;font-weight: bold;display: inline-block;line-height: 1.2em;}#sk-container-id-2 div.sk-label-container {text-align: center;}#sk-container-id-2 div.sk-container {/* jupyter's `normalize.less` sets `[hidden] { display: none; }` but bootstrap.min.css set `[hidden] { display: none !important; }` so we also need the `!important` here to be able to override the default hidden behavior on the sphinx rendered scikit-learn.org. See: https://github.com/scikit-learn/scikit-learn/issues/21755 */display: inline-block !important;position: relative;}#sk-container-id-2 div.sk-text-repr-fallback {display: none;}</style><div id=\"sk-container-id-2\" class=\"sk-top-container\"><div class=\"sk-text-repr-fallback\"><pre>LinearRegression()</pre><b>In a Jupyter environment, please rerun this cell to show the HTML representation or trust the notebook. <br />On GitHub, the HTML representation is unable to render, please try loading this page with nbviewer.org.</b></div><div class=\"sk-container\" hidden><div class=\"sk-item\"><div class=\"sk-estimator sk-toggleable\"><input class=\"sk-toggleable__control sk-hidden--visually\" id=\"sk-estimator-id-2\" type=\"checkbox\" checked><label for=\"sk-estimator-id-2\" class=\"sk-toggleable__label sk-toggleable__label-arrow\">LinearRegression</label><div class=\"sk-toggleable__content\"><pre>LinearRegression()</pre></div></div></div></div></div>"
            ]
          },
          "metadata": {},
          "execution_count": 55
        }
      ]
    },
    {
      "cell_type": "code",
      "metadata": {
        "id": "5Z6PidLKaMyh",
        "colab": {
          "base_uri": "https://localhost:8080/"
        },
        "outputId": "530b0fbd-54cf-4042-f883-ab0be28fc27e"
      },
      "source": [
        "regressor.coef_"
      ],
      "execution_count": 56,
      "outputs": [
        {
          "output_type": "execute_result",
          "data": {
            "text/plain": [
              "array([[21.44362551]])"
            ]
          },
          "metadata": {},
          "execution_count": 56
        }
      ]
    },
    {
      "cell_type": "code",
      "metadata": {
        "id": "jHFLLm4haYSI",
        "colab": {
          "base_uri": "https://localhost:8080/"
        },
        "outputId": "fe0245c5-c36a-460d-b6da-54ffd45d404f"
      },
      "source": [
        "regressor.intercept_"
      ],
      "execution_count": 57,
      "outputs": [
        {
          "output_type": "execute_result",
          "data": {
            "text/plain": [
              "array([44.83126709])"
            ]
          },
          "metadata": {},
          "execution_count": 57
        }
      ]
    },
    {
      "cell_type": "code",
      "metadata": {
        "id": "XKMqM7VSac1N",
        "colab": {
          "base_uri": "https://localhost:8080/",
          "height": 472
        },
        "outputId": "3621c457-6036-4a52-fff2-ade932ad896c"
      },
      "source": [
        "plt.scatter(X_train, y_train, color = 'gray')\n",
        "plt.plot(X_train, regressor.predict(X_train), color = 'red')\n",
        "plt.ylabel('Revenue [dollars]')\n",
        "plt.xlabel('Temperature [degC]')\n",
        "plt.title('Revenue Generated vs. Temperature @Ice Cream Stand');"
      ],
      "execution_count": 58,
      "outputs": [
        {
          "output_type": "display_data",
          "data": {
            "text/plain": [
              "<Figure size 640x480 with 1 Axes>"
            ],
            "image/png": "[encoded data removed]"
          },
          "metadata": {}
        }
      ]
    },
    {
      "cell_type": "code",
      "metadata": {
        "id": "v8nPs4ADarpo",
        "colab": {
          "base_uri": "https://localhost:8080/"
        },
        "outputId": "ddc35a8c-1693-43e6-aa3f-785f7bee2578"
      },
      "source": [
        "temp = 25\n",
        "revenue = regressor.predict([[temp]])\n",
        "print('Revenue Predictions Using Trained ANN =', revenue) #Artificial Neural Network"
      ],
      "execution_count": 64,
      "outputs": [
        {
          "output_type": "stream",
          "name": "stdout",
          "text": [
            "Revenue Predictions Using Trained ANN = [[580.92190486]]\n"
          ]
        }
      ]
    },
    {
      "cell_type": "markdown",
      "source": [
        "\n",
        "O modelo de previsão que estamos utilizando se baseia exclusivamente nas mudanças de temperatura para prever as vendas. No entanto, é importante ressaltar que as vendas podem ser influenciadas por diversos outros fatores, como o dia da semana, condições climáticas, eventos especiais, férias e uma série de variáveis que certamente desempenham um papel significativo no resultado das vendas.\n",
        "\n",
        "O gráfico apresentado anteriormente ilustra todas as medições do conjunto de dados, com uma linha vermelha representando as previsões do nosso modelo. Essa linha de previsão serve como um ponto de comparação para avaliar o desempenho do modelo.\n",
        "\n",
        "Além disso, na Etapa 7, utilizamos um modelo do sklearn para fins de comparação e avaliação dos resultados obtidos com o modelo principal."
      ],
      "metadata": {
        "id": "thDi1m-pmQ8w"
      }
    }
  ]
}